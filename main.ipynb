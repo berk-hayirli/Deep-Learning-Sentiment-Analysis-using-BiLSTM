{
  "cells": [
    {
      "cell_type": "code",
      "execution_count": null,
      "metadata": {
        "id": "KMWzkgIPjy-I"
      },
      "outputs": [],
      "source": [
        "import tensorflow as tf\n",
        "import pandas as pd\n",
        "import numpy as np\n",
        "import tensorflow_datasets as tfds\n",
        "import keras\n",
        "import sklearn\n",
        "import matplotlib.pyplot as plt\n",
        "import seaborn as sns\n",
        "import re"
      ]
    },
    {
      "cell_type": "code",
      "execution_count": null,
      "metadata": {
        "colab": {
          "base_uri": "https://localhost:8080/"
        },
        "id": "FNH0pF4YHVWB",
        "outputId": "668a167b-acfc-4472-840f-a432ae2f1ebc"
      },
      "outputs": [
        {
          "output_type": "stream",
          "name": "stdout",
          "text": [
            "Mounted at /content/drive\n"
          ]
        }
      ],
      "source": [
        "from google.colab import drive\n",
        "drive.mount('/content/drive')\n",
        "\n",
        "data_dir_Toys = '/content/drive/MyDrive/Toys'\n",
        "data_dir_Electronics = '/content/drive/MyDrive/Electronics'\n",
        "data_dir_Furniture = '/content/drive/MyDrive/Furniture'"
      ]
    },
    {
      "cell_type": "code",
      "execution_count": null,
      "metadata": {
        "colab": {
          "base_uri": "https://localhost:8080/",
          "height": 249,
          "referenced_widgets": [
            "0d2a4fa86a4f440e94965e2b51b930d4",
            "6e24a60289bf40b487237441942a00b8",
            "0ff73866d43d4f8da4cc9e9dc6ceca92",
            "872ee0e57c334899850392539386b824",
            "581c75125c944838bf8b5ff58fd63e08",
            "003fe7f235cc42e3b5e23d73a86fb576",
            "2a4dadfef7b24ad387791fd52d6f0ce2",
            "c508aea042b2473e96bce9bcb4c4aecb",
            "0b174607a32942bdafa1e6cb5e0554f7",
            "801d09b24eb14f9f8d99a57b8cc47c76",
            "4b4d5e9babb344a6acb6364a1f877154",
            "5226e1a2f6fd4726beea2a2c8c8abd1a",
            "7d8d8f66395d4d48aae261da87a6b948",
            "cf64471300c44d6ea49796f0589cd11f",
            "1d76e0f0a6524edca3c3b3a70bc80f6a",
            "4023551d994643db8437e09130e0d6fd",
            "16817a08d736469a852de8c8415407d5",
            "53633914e00c46f0bb67b6a4b15bfcab",
            "f9dd3649085e4479981a6d0eb31748a9",
            "cb352f7cc49a4042badc95a6794133cd",
            "e7591382fb3c457cbc64ea5dd8893119",
            "feea8956b90d491b83b7ca70b7921256",
            "1f3f5e43dda24bb8bcd9547b65d46147",
            "972e93213a1f4e69a22a789af154be58",
            "39c033008f114aa39436b05894a5e03b",
            "c34126abcd74444f8e2f03642df24952",
            "d0055241ee4d48a6bc1d883de45034e6",
            "041dc1e0a9864d918bddd4a34012d39a",
            "0ee47777673f4feb80f89e2791f3f918",
            "f071d2a2ea544523a0fb4b8129b2611d",
            "d861d61ca97b48e9b97782c0e7160863",
            "bdff9a739a204a248c352a2085ccf397",
            "95cf7a6e90614c54985baacee0773854",
            "7111bd07d04242ebae4e768cf958b995",
            "625db03afa8e4a60b1b5e6c84b856fab",
            "d00ff4f07a984598a347216433cf5e0a",
            "f981c612f051430099414a7a6694e756",
            "b9583e68d654479ebf5787363e83fe6c",
            "398c84c3c1684f9d952a41841709f4e3",
            "1f0ee9a1c08c43efac8bee108e77c51f",
            "241faddc76ba4f6899c4c488046caeab",
            "30ec45ada3104ceb8e67cad33387b6a8",
            "ff924ba7151c4126bd1865c1a0aaa5b1",
            "da75e775bc684bb6bd37539a04179f0c",
            "01fd2e8cf7a44c5a8f20325c6720c5ce",
            "fa66f69417504d06b813c16ceed3848c",
            "efd7442b5eea407996811615a93b1045",
            "75c5e3c116ad435bb131ac2795f41483",
            "32594b05aab14900a61c0900c9921040",
            "3b7b8755c9de4905bd04b2eaf8b0adf5",
            "eac2a60935224289aa35c24f9d382641",
            "95065dc3ece54720af2da8583a1c210a",
            "86e543ae6e9a4f3e8794b4b50da9be42",
            "8749c43944294fa89750096ad0bd3b74",
            "d6220caa26e64f19bf27db7889ad9118"
          ]
        },
        "id": "COQw0r_EXATx",
        "outputId": "646d73e0-4b2b-4ee1-f47a-f0bdb25d2630"
      },
      "outputs": [
        {
          "name": "stdout",
          "output_type": "stream",
          "text": [
            "\u001b[1mDownloading and preparing dataset amazon_us_reviews/Toys_v1_00/0.1.0 (download: 799.61 MiB, generated: Unknown size, total: 799.61 MiB) to /content/drive/MyDrive/Toys/amazon_us_reviews/Toys_v1_00/0.1.0...\u001b[0m\n"
          ]
        },
        {
          "data": {
            "application/vnd.jupyter.widget-view+json": {
              "model_id": "0d2a4fa86a4f440e94965e2b51b930d4",
              "version_major": 2,
              "version_minor": 0
            },
            "text/plain": [
              "Dl Completed...: 0 url [00:00, ? url/s]"
            ]
          },
          "metadata": {},
          "output_type": "display_data"
        },
        {
          "data": {
            "application/vnd.jupyter.widget-view+json": {
              "model_id": "5226e1a2f6fd4726beea2a2c8c8abd1a",
              "version_major": 2,
              "version_minor": 0
            },
            "text/plain": [
              "Dl Size...: 0 MiB [00:00, ? MiB/s]"
            ]
          },
          "metadata": {},
          "output_type": "display_data"
        },
        {
          "data": {
            "application/vnd.jupyter.widget-view+json": {
              "model_id": "1f3f5e43dda24bb8bcd9547b65d46147",
              "version_major": 2,
              "version_minor": 0
            },
            "text/plain": [
              "Extraction completed...: 0 file [00:00, ? file/s]"
            ]
          },
          "metadata": {},
          "output_type": "display_data"
        },
        {
          "name": "stdout",
          "output_type": "stream",
          "text": [
            "\n",
            "\n",
            "\n"
          ]
        },
        {
          "data": {
            "application/vnd.jupyter.widget-view+json": {
              "model_id": "7111bd07d04242ebae4e768cf958b995",
              "version_major": 2,
              "version_minor": 0
            },
            "text/plain": [
              "0 examples [00:00, ? examples/s]"
            ]
          },
          "metadata": {},
          "output_type": "display_data"
        },
        {
          "name": "stdout",
          "output_type": "stream",
          "text": [
            "Shuffling and writing examples to /content/drive/MyDrive/Toys/amazon_us_reviews/Toys_v1_00/0.1.0.incompleteZA0U5M/amazon_us_reviews-train.tfrecord\n"
          ]
        },
        {
          "data": {
            "application/vnd.jupyter.widget-view+json": {
              "model_id": "01fd2e8cf7a44c5a8f20325c6720c5ce",
              "version_major": 2,
              "version_minor": 0
            },
            "text/plain": [
              "  0%|          | 0/4864249 [00:00<?, ? examples/s]"
            ]
          },
          "metadata": {},
          "output_type": "display_data"
        },
        {
          "name": "stdout",
          "output_type": "stream",
          "text": [
            "\u001b[1mDataset amazon_us_reviews downloaded and prepared to /content/drive/MyDrive/Toys/amazon_us_reviews/Toys_v1_00/0.1.0. Subsequent calls will reuse this data.\u001b[0m\n"
          ]
        }
      ],
      "source": [
        "#ds2 = tfds.load('amazon_us_reviews/Electronics_v1_00', split='train', shuffle_files=True, data_dir=data_dir_Electronics)\n",
        "#ds3 = tfds.load('amazon_us_reviews/Toys_v1_00', split='train', shuffle_files=True, data_dir=data_dir_Toys)"
      ]
    },
    {
      "cell_type": "code",
      "execution_count": null,
      "metadata": {
        "id": "dSjlGfZAOQ9z"
      },
      "outputs": [],
      "source": [
        "#ds = tfds.load('amazon_us_reviews/Electronics_v1_00', data_dir=data_dir_Electronics, split='train', download=False)\n",
        "#ds2 = tfds.load('amazon_us_reviews/Furniture_v1_00', data_dir=data_dir_Furniture, split='train', download=False)\n",
        "#ds3 = tfds.load('amazon_us_reviews/Toys_v1_00', data_dir=data_dir_Toys, split='train', download=False)"
      ]
    },
    {
      "cell_type": "code",
      "execution_count": null,
      "metadata": {
        "id": "WdpTUhjcyLmG"
      },
      "outputs": [],
      "source": [
        "#df = tfds.as_dataframe(ds)\n",
        "#df.head()\n",
        "\n",
        "#df2 = tfds.as_dataframe(ds2)\n",
        "#df2.head()\n",
        "\n",
        "#df3= tfds.as_dataframe(ds3)\n",
        "#df3.head()"
      ]
    },
    {
      "cell_type": "code",
      "execution_count": null,
      "metadata": {
        "id": "HqdRpee63WSD"
      },
      "outputs": [],
      "source": [
        "#df3['data/review_body'] = df3['data/review_body'].str.decode(\"utf-8\")\n",
        "#df3 = df3[[\"data/review_body\", \"data/star_rating\"]]\n",
        "\n"
      ]
    },
    {
      "cell_type": "code",
      "execution_count": null,
      "metadata": {
        "id": "XGO9ZyoSF_qX"
      },
      "outputs": [],
      "source": [
        "#filepath = '/content/drive/MyDrive/Electronics.csv'\n",
        "#df.to_csv(filepath) \n",
        "\n",
        "#filepathTOY = '/content/drive/MyDrive/TOYS.csv'\n",
        "#df3.to_csv(filepathTOY) "
      ]
    },
    {
      "cell_type": "code",
      "execution_count": null,
      "metadata": {
        "id": "5jP-kJVmGoQg"
      },
      "outputs": [],
      "source": [
        "#filepath = '/content/drive/MyDrive/Electronics.csv'\n",
        "#df = pd.read_csv(filepath)\n",
        "#df['data/review_body']=df['data/review_body'].astype(str)\n",
        "\n",
        "filepathTOY = '/content/drive/MyDrive/TOYS.csv'\n",
        "df = pd.read_csv(filepathTOY)\n",
        "df['data/review_body']=df['data/review_body'].astype(str)"
      ]
    },
    {
      "cell_type": "code",
      "execution_count": null,
      "metadata": {
        "id": "14Lm1iHYC1ls"
      },
      "outputs": [],
      "source": [
        "#df['data/review_body'] = df['data/review_body'].str.replace(r'\\b\\w{1,3}\\b', '')\n",
        "#df = df.drop('Unnamed: 0', 1)\n",
        "#df"
      ]
    },
    {
      "cell_type": "code",
      "execution_count": null,
      "metadata": {
        "colab": {
          "base_uri": "https://localhost:8080/"
        },
        "id": "2MYFQlonOsHX",
        "outputId": "e7fe4ded-52cc-46f1-9f30-e046d77bd2a3"
      },
      "outputs": [
        {
          "data": {
            "text/plain": [
              "5    3076922\n",
              "4     769722\n",
              "1     399503\n",
              "3     387722\n",
              "2     230380\n",
              "Name: data/star_rating, dtype: int64"
            ]
          },
          "execution_count": 21,
          "metadata": {},
          "output_type": "execute_result"
        }
      ],
      "source": [
        "#df['data/star_rating'].value_counts()"
      ]
    },
    {
      "cell_type": "code",
      "execution_count": null,
      "metadata": {
        "id": "OHSZ8B27SHGl"
      },
      "outputs": [],
      "source": [
        "#df1 = df[df['data/star_rating'] == 1]\n",
        "#df2 = df[df['data/star_rating'] == 2]\n",
        "#df3 = df[df['data/star_rating'] == 3]\n",
        "#df4 = df[df['data/star_rating'] == 4]\n",
        "#df5 = df[df['data/star_rating'] == 5]"
      ]
    },
    {
      "cell_type": "code",
      "execution_count": null,
      "metadata": {
        "id": "lPk-omVmTFCX"
      },
      "outputs": [],
      "source": [
        "#df1 = df1.append(df2.append(df3.append(df4.append(df5,ignore_index=True),ignore_index=True),ignore_index=True),ignore_index=True)\n",
        "#print(df1)"
      ]
    },
    {
      "cell_type": "code",
      "execution_count": null,
      "metadata": {
        "id": "c1DOzSZnZk-O"
      },
      "outputs": [],
      "source": [
        "#df1['data/star_rating'].value_counts()"
      ]
    },
    {
      "cell_type": "code",
      "execution_count": null,
      "metadata": {
        "id": "V0qlT0mKaGa1"
      },
      "outputs": [],
      "source": [
        "#df1 = df\n",
        "#df1"
      ]
    },
    {
      "cell_type": "code",
      "execution_count": null,
      "metadata": {
        "id": "HuaPprxrVeQB"
      },
      "outputs": [],
      "source": [
        "#df1['count'] = df1['data/review_body'].str.split().str.len()"
      ]
    },
    {
      "cell_type": "code",
      "execution_count": null,
      "metadata": {
        "id": "FHBpPs_QVqPB"
      },
      "outputs": [],
      "source": [
        "#df1 = df1[df1['count'] != 0]\n",
        "#df1.sort_values(by=['count'])\n",
        "#df1['count'].mean(skipna=True)"
      ]
    },
    {
      "cell_type": "code",
      "execution_count": null,
      "metadata": {
        "id": "GDycAA34YQS_"
      },
      "outputs": [],
      "source": [
        "\n",
        "#x=[0,50,100,150,200,250,300]\n",
        "#y=[0,100000,200000,400000,800000,1200000.1600000,2000000]\n",
        "\n",
        "#values = ['0', '1', '2', '3','4','5','6']\n",
        "#values2 = ['0', '1', '2', '3','4','5','6']\n",
        "\n",
        "#kwargs = dict(histtype='stepfilled', alpha=0.8, bins=100)\n",
        "\n",
        "#plt.figure(figsize=(24, 8))\n",
        "#plt.xticks(x,values)\n",
        "#plt.yticks(y,values2)\n",
        "#plt.hist(df1['count'], **kwargs, color = \"red\", ec=\"red\")"
      ]
    },
    {
      "cell_type": "code",
      "execution_count": null,
      "metadata": {
        "id": "_T-_GjGthJAZ"
      },
      "outputs": [],
      "source": [
        "reviews = df['data/review_body']\n",
        "labels =  df[\"data/star_rating\"].subtract(1)\n",
        "labels = labels.div(4)\n",
        "#del df\n",
        "#labels[labels == 0.25] = 0\n",
        "#labels[labels == 0.75] = 1\n"
      ]
    },
    {
      "cell_type": "code",
      "execution_count": null,
      "metadata": {
        "colab": {
          "base_uri": "https://localhost:8080/"
        },
        "id": "Hbn9_dWMsIzH",
        "outputId": "c34d027b-3b60-4da4-dd40-32a7aaa1a54c"
      },
      "outputs": [
        {
          "output_type": "execute_result",
          "data": {
            "text/plain": [
              "1.00    338375\n",
              "0.75     84970\n",
              "0.00     43904\n",
              "0.50     42291\n",
              "0.25     25527\n",
              "Name: data/star_rating, dtype: int64"
            ]
          },
          "metadata": {},
          "execution_count": 8
        }
      ],
      "source": [
        "from sklearn.model_selection import train_test_split\n",
        "reviews, temp2, labels, temp22 = train_test_split(reviews, labels, test_size=.89, random_state = 10)\n",
        "#reviews, temp2, labels, temp22 = train_test_split(reviews, labels, test_size=.56, random_state = 10)\n",
        "#training_sentences, test_sentences, training_labels, test_labels = train_test_split(reviews, labels, test_size=.1, random_state = 10)#, stratify = labels)\n",
        "del temp2\n",
        "del temp22\n",
        "labels.value_counts()"
      ]
    },
    {
      "cell_type": "code",
      "source": [
        "labels.value_counts()"
      ],
      "metadata": {
        "id": "4tnBD59o1i_Z",
        "outputId": "5cdec88b-03a4-45bb-e95c-89fece0d98d7",
        "colab": {
          "base_uri": "https://localhost:8080/"
        }
      },
      "execution_count": null,
      "outputs": [
        {
          "output_type": "execute_result",
          "data": {
            "text/plain": [
              "1.00    338375\n",
              "0.75     84970\n",
              "0.00     43904\n",
              "0.50     42291\n",
              "0.25     25527\n",
              "Name: data/star_rating, dtype: int64"
            ]
          },
          "metadata": {},
          "execution_count": 9
        }
      ]
    },
    {
      "cell_type": "code",
      "execution_count": null,
      "metadata": {
        "id": "9UDsth4iZsfV"
      },
      "outputs": [],
      "source": [
        "t = tf.keras.preprocessing.text.Tokenizer(num_words=10000)\n",
        "\n",
        "t.fit_on_texts(reviews)\n",
        "\n",
        "encoded_reviews = t.texts_to_sequences(reviews)\n",
        "#encoded_train = t.texts_to_sequences(training_sentences)\n",
        "#encoded_test = t.texts_to_sequences(test_sentences)\n",
        "\n",
        "encoded_reviews = tf.keras.preprocessing.sequence.pad_sequences(encoded_reviews,padding='post',maxlen=300)\n",
        "#encoded_train = tf.keras.preprocessing.sequence.pad_sequences(encoded_train,padding='post',maxlen=300) # 300 iyi\n",
        "#encoded_test = tf.keras.preprocessing.sequence.pad_sequences(encoded_test,padding='post',maxlen=300)\n",
        "\n",
        "#print(encoded_train)\n",
        "#print(encoded_test)\n",
        "\n",
        "#print(np.shape(encoded_train))\n",
        "#print(np.shape(encoded_test))\n",
        "\n",
        "#print(training_labels)\n",
        "#print(test_labels)"
      ]
    },
    {
      "cell_type": "code",
      "source": [
        "new_list = []\n",
        "for i in range(len(encoded_reviews)):\n",
        "    new_list.append(len(encoded_reviews[i]))\n",
        "\n",
        "distinct_list = []\n",
        "for i in range(len(encoded_reviews)):\n",
        "    row = []\n",
        "    for j in range(len(encoded_reviews[i])):\n",
        "        if not encoded_reviews[i].__getitem__(j) in row:\n",
        "            row.append(encoded_reviews[i].__getitem__(j))\n",
        "    distinct_list.append(len(row))"
      ],
      "metadata": {
        "id": "ffb-tmR0GB4x"
      },
      "execution_count": null,
      "outputs": []
    },
    {
      "cell_type": "code",
      "source": [
        "import matplotlib.ticker as mtick\n",
        "plt.hist(new_list, bins=10, range=[0 ,500])\n",
        "plt.xlabel('Number of words in every review', fontsize=14)\n",
        "plt.ylabel('Percentage Distributions', fontsize=14)\n",
        "plt.gca().yaxis.set_major_formatter(mtick.PercentFormatter(xmax=2100000.0))"
      ],
      "metadata": {
        "colab": {
          "base_uri": "https://localhost:8080/",
          "height": 286
        },
        "id": "2JsQFw9Qh2TR",
        "outputId": "4f4533f7-89f8-4436-aaed-cc36d4bb3535"
      },
      "execution_count": null,
      "outputs": [
        {
          "output_type": "display_data",
          "data": {
            "text/plain": [
              "<Figure size 432x288 with 1 Axes>"
            ],
            "image/png": "[encoded data removed]"
          },
          "metadata": {
            "needs_background": "light"
          }
        }
      ]
    },
    {
      "cell_type": "code",
      "source": [
        "plt.hist(distinct_list, bins=12, range=[0 ,400])\n",
        "plt.xlabel('Number of distinct words in every review', fontsize=14)\n",
        "plt.ylabel('Percentage Distributions', fontsize=14)\n",
        "plt.gca().yaxis.set_major_formatter(mtick.PercentFormatter(xmax=2100000.0))"
      ],
      "metadata": {
        "colab": {
          "base_uri": "https://localhost:8080/",
          "height": 283
        },
        "id": "fMzLx7FinvWo",
        "outputId": "c84032b3-9d64-43b9-f9ba-2636d054f167"
      },
      "execution_count": null,
      "outputs": [
        {
          "output_type": "display_data",
          "data": {
            "text/plain": [
              "<Figure size 432x288 with 1 Axes>"
            ],
            "image/png": "[encoded data removed]"
          },
          "metadata": {
            "needs_background": "light"
          }
        }
      ]
    },
    {
      "cell_type": "code",
      "execution_count": null,
      "metadata": {
        "id": "7khnUArq5vkB",
        "colab": {
          "base_uri": "https://localhost:8080/"
        },
        "outputId": "07061c4c-f495-49ab-a098-dad990ce1ad4"
      },
      "outputs": [
        {
          "output_type": "stream",
          "name": "stdout",
          "text": [
            "[[ 106    0    0 ...    0    0    0]\n",
            " [1809   84  139 ...    0    0    0]\n",
            " [ 709    6   50 ...    0    0    0]\n",
            " ...\n",
            " [  11   68  667 ...    0    0    0]\n",
            " [ 382   19    0 ...    0    0    0]\n",
            " [ 107 1901  113 ...    0    0    0]]\n"
          ]
        }
      ],
      "source": [
        "#t.word_counts\n",
        "#t.word_docs\n",
        "#t.word_index\n",
        "#t.document_count\n",
        "\n",
        "#print(encoded_test)\n",
        "\n",
        "#tttt = pd.DataFrame.from_dict(t.word_counts, orient='index')\n",
        "#tttt = tttt.sort_values(by=[0])\n",
        "#tttt.tail(10000)\n",
        "\n",
        "#plt.hist(newarr1,  color = \"red\", ec=\"red\")"
      ]
    },
    {
      "cell_type": "code",
      "execution_count": null,
      "metadata": {
        "id": "V-FEXdMYa9eY",
        "colab": {
          "base_uri": "https://localhost:8080/"
        },
        "outputId": "25e0533c-8449-459a-a3bc-bc07c56b613f"
      },
      "outputs": [
        {
          "output_type": "stream",
          "name": "stdout",
          "text": [
            "Model: \"sequential_1\"\n",
            "_________________________________________________________________\n",
            " Layer (type)                Output Shape              Param #   \n",
            "=================================================================\n",
            " embedding_1 (Embedding)     (None, 300, 128)          1280000   \n",
            "                                                                 \n",
            " bidirectional_2 (Bidirectio  (None, 300, 128)         98816     \n",
            " nal)                                                            \n",
            "                                                                 \n",
            " bidirectional_3 (Bidirectio  (None, 64)               41216     \n",
            " nal)                                                            \n",
            "                                                                 \n",
            " dense_2 (Dense)             (None, 24)                1560      \n",
            "                                                                 \n",
            " dropout_1 (Dropout)         (None, 24)                0         \n",
            "                                                                 \n",
            " dense_3 (Dense)             (None, 1)                 25        \n",
            "                                                                 \n",
            "=================================================================\n",
            "Total params: 1,421,617\n",
            "Trainable params: 1,421,617\n",
            "Non-trainable params: 0\n",
            "_________________________________________________________________\n"
          ]
        }
      ],
      "source": [
        "#model = tf.keras.Sequential([\n",
        "#    tf.keras.layers.Embedding(input_dim=10000, output_dim=50, input_length=300),\n",
        "#    tf.keras.layers.Bidirectional(keras.layers.LSTM(64)),\n",
        "#    tf.keras.layers.Dense(24, activation='relu'),\n",
        "#    tf.keras.layers.Dense(1, activation='sigmoid')\n",
        "#])\n",
        "\n",
        "model = tf.keras.Sequential([\n",
        "    tf.keras.layers.Embedding(input_dim=10000, output_dim=128, input_length=300),\n",
        "    tf.keras.layers.Bidirectional(keras.layers.LSTM(64,return_sequences=True)), \n",
        "    #tf.keras.layers.Dropout(0.2),\n",
        "    tf.keras.layers.Bidirectional(keras.layers.LSTM(32)), \n",
        "    #tf.keras.layers.Dropout(0.2),\n",
        "    tf.keras.layers.Dense(24, activation='relu'),\n",
        "    tf.keras.layers.Dropout(0.2),\n",
        "    tf.keras.layers.Dense(1, activation='sigmoid')\n",
        "])\n",
        "\n",
        "model.compile(loss='mse',\n",
        "              optimizer='adam',\n",
        "              metrics=['mae','mse',tf.keras.metrics.RootMeanSquaredError()])\n",
        "\n",
        "model.summary()"
      ]
    },
    {
      "cell_type": "code",
      "execution_count": null,
      "metadata": {
        "colab": {
          "base_uri": "https://localhost:8080/"
        },
        "id": "TdwavfQyeAXm",
        "outputId": "f0681a59-7eea-4a2c-9544-aba27e69f7ac"
      },
      "outputs": [
        {
          "output_type": "stream",
          "name": "stdout",
          "text": [
            "34202/34202 [==============================] - 1691s 49ms/step - loss: 0.0205 - mae: 0.0883 - mse: 0.0205 - root_mean_squared_error: 0.1433\n"
          ]
        }
      ],
      "source": [
        "history = model.fit(encoded_train, training_labels, \n",
        "                    epochs=1, verbose=1, batch_size=128)#, validation_split=0.1)   "
      ]
    },
    {
      "cell_type": "code",
      "execution_count": null,
      "metadata": {
        "id": "kH0_uIsjseFt",
        "colab": {
          "base_uri": "https://localhost:8080/",
          "height": 574
        },
        "outputId": "21c19c2d-a186-480e-a35c-b544b972aa34"
      },
      "outputs": [
        {
          "output_type": "stream",
          "name": "stderr",
          "text": [
            "/usr/local/lib/python3.7/dist-packages/ipykernel_launcher.py:27: DeprecationWarning: KerasRegressor is deprecated, use Sci-Keras (https://github.com/adriangb/scikeras) instead. See https://www.adriangb.com/scikeras/stable/migration.html for help migrating.\n"
          ]
        },
        {
          "output_type": "stream",
          "name": "stdout",
          "text": [
            "Epoch 1/3\n",
            "6689/6689 [==============================] - ETA: 0s - loss: 0.0358 - mae: 0.1243 - mse: 0.0358 - root_mean_squared_error: 0.1893"
          ]
        },
        {
          "output_type": "stream",
          "name": "stderr",
          "text": [
            "WARNING:absl:Found untraced functions such as lstm_cell_7_layer_call_fn, lstm_cell_7_layer_call_and_return_conditional_losses, lstm_cell_8_layer_call_fn, lstm_cell_8_layer_call_and_return_conditional_losses, lstm_cell_10_layer_call_fn while saving (showing 5 of 8). These functions will not be directly callable after loading.\n"
          ]
        },
        {
          "output_type": "stream",
          "name": "stdout",
          "text": [
            "INFO:tensorflow:Assets written to: /content/drive/MyDrive/final_crossval/assets\n"
          ]
        },
        {
          "output_type": "stream",
          "name": "stderr",
          "text": [
            "INFO:tensorflow:Assets written to: /content/drive/MyDrive/final_crossval/assets\n",
            "WARNING:absl:<keras.layers.recurrent.LSTMCell object at 0x7f27daa60750> has the same name 'LSTMCell' as a built-in Keras object. Consider renaming <class 'keras.layers.recurrent.LSTMCell'> to avoid naming conflicts when loading with `tf.keras.models.load_model`. If renaming is not possible, pass the object in the `custom_objects` parameter of the load function.\n",
            "WARNING:absl:<keras.layers.recurrent.LSTMCell object at 0x7f27da198b90> has the same name 'LSTMCell' as a built-in Keras object. Consider renaming <class 'keras.layers.recurrent.LSTMCell'> to avoid naming conflicts when loading with `tf.keras.models.load_model`. If renaming is not possible, pass the object in the `custom_objects` parameter of the load function.\n",
            "WARNING:absl:<keras.layers.recurrent.LSTMCell object at 0x7f27da1a42d0> has the same name 'LSTMCell' as a built-in Keras object. Consider renaming <class 'keras.layers.recurrent.LSTMCell'> to avoid naming conflicts when loading with `tf.keras.models.load_model`. If renaming is not possible, pass the object in the `custom_objects` parameter of the load function.\n",
            "WARNING:absl:<keras.layers.recurrent.LSTMCell object at 0x7f27da130050> has the same name 'LSTMCell' as a built-in Keras object. Consider renaming <class 'keras.layers.recurrent.LSTMCell'> to avoid naming conflicts when loading with `tf.keras.models.load_model`. If renaming is not possible, pass the object in the `custom_objects` parameter of the load function.\n"
          ]
        },
        {
          "output_type": "stream",
          "name": "stdout",
          "text": [
            "\b\b\b\b\b\b\b\b\b\b\b\b\b\b\b\b\b\b\b\b\b\b\b\b\b\b\b\b\b\b\b\b\b\b\b\b\b\b\b\b\b\b\b\b\b\b\b\b\b\b\b\b\b\b\b\b\b\b\b\b\b\b\b\b\b\b\b\b\b\b\b\b\b\b\b\b\b\b\b\b\b\b\b\b\b\b\b\b\b\b\b\b\b\b\b\b\b\b\b\b\b\b\b\b\b\b\b\b\b\b\b\b\b\b\b\b\b\b\b\b\b\b\b\b\b\b\b\b\b\r6689/6689 [==============================] - 320s 47ms/step - loss: 0.0358 - mae: 0.1243 - mse: 0.0358 - root_mean_squared_error: 0.1893\n",
            "Epoch 2/3\n",
            "2602/6689 [==========>...................] - ETA: 2:58 - loss: 0.0268 - mae: 0.1043 - mse: 0.0268 - root_mean_squared_error: 0.1637"
          ]
        },
        {
          "output_type": "error",
          "ename": "KeyboardInterrupt",
          "evalue": "ignored",
          "traceback": [
            "\u001b[0;31m---------------------------------------------------------------------------\u001b[0m",
            "\u001b[0;31mKeyboardInterrupt\u001b[0m                         Traceback (most recent call last)",
            "\u001b[0;32m<ipython-input-14-a0ffcacb276c>\u001b[0m in \u001b[0;36m<module>\u001b[0;34m()\u001b[0m\n\u001b[1;32m     28\u001b[0m \u001b[0;31m#model.save(drive_path + 'final_3epoch_64batchsize')\u001b[0m\u001b[0;34m\u001b[0m\u001b[0;34m\u001b[0m\u001b[0;34m\u001b[0m\u001b[0m\n\u001b[1;32m     29\u001b[0m \u001b[0;34m\u001b[0m\u001b[0m\n\u001b[0;32m---> 30\u001b[0;31m \u001b[0mscores\u001b[0m \u001b[0;34m=\u001b[0m \u001b[0msklearn\u001b[0m\u001b[0;34m.\u001b[0m\u001b[0mmodel_selection\u001b[0m\u001b[0;34m.\u001b[0m\u001b[0mcross_validate\u001b[0m\u001b[0;34m(\u001b[0m\u001b[0mmodel\u001b[0m\u001b[0;34m,\u001b[0m \u001b[0mencoded_reviews\u001b[0m\u001b[0;34m,\u001b[0m \u001b[0mlabels\u001b[0m\u001b[0;34m,\u001b[0m \u001b[0mcv\u001b[0m\u001b[0;34m=\u001b[0m\u001b[0mskf\u001b[0m\u001b[0;34m,\u001b[0m \u001b[0mscoring\u001b[0m\u001b[0;34m=\u001b[0m\u001b[0mscoring\u001b[0m\u001b[0;34m)\u001b[0m\u001b[0;34m\u001b[0m\u001b[0;34m\u001b[0m\u001b[0m\n\u001b[0m",
            "\u001b[0;32m/usr/local/lib/python3.7/dist-packages/sklearn/model_selection/_validation.py\u001b[0m in \u001b[0;36mcross_validate\u001b[0;34m(estimator, X, y, groups, scoring, cv, n_jobs, verbose, fit_params, pre_dispatch, return_train_score, return_estimator, error_score)\u001b[0m\n\u001b[1;32m    281\u001b[0m             \u001b[0merror_score\u001b[0m\u001b[0;34m=\u001b[0m\u001b[0merror_score\u001b[0m\u001b[0;34m,\u001b[0m\u001b[0;34m\u001b[0m\u001b[0;34m\u001b[0m\u001b[0m\n\u001b[1;32m    282\u001b[0m         )\n\u001b[0;32m--> 283\u001b[0;31m         \u001b[0;32mfor\u001b[0m \u001b[0mtrain\u001b[0m\u001b[0;34m,\u001b[0m \u001b[0mtest\u001b[0m \u001b[0;32min\u001b[0m \u001b[0mcv\u001b[0m\u001b[0;34m.\u001b[0m\u001b[0msplit\u001b[0m\u001b[0;34m(\u001b[0m\u001b[0mX\u001b[0m\u001b[0;34m,\u001b[0m \u001b[0my\u001b[0m\u001b[0;34m,\u001b[0m \u001b[0mgroups\u001b[0m\u001b[0;34m)\u001b[0m\u001b[0;34m\u001b[0m\u001b[0;34m\u001b[0m\u001b[0m\n\u001b[0m\u001b[1;32m    284\u001b[0m     )\n\u001b[1;32m    285\u001b[0m \u001b[0;34m\u001b[0m\u001b[0m\n",
            "\u001b[0;32m/usr/local/lib/python3.7/dist-packages/joblib/parallel.py\u001b[0m in \u001b[0;36m__call__\u001b[0;34m(self, iterable)\u001b[0m\n\u001b[1;32m   1041\u001b[0m             \u001b[0;31m# remaining jobs.\u001b[0m\u001b[0;34m\u001b[0m\u001b[0;34m\u001b[0m\u001b[0;34m\u001b[0m\u001b[0m\n\u001b[1;32m   1042\u001b[0m             \u001b[0mself\u001b[0m\u001b[0;34m.\u001b[0m\u001b[0m_iterating\u001b[0m \u001b[0;34m=\u001b[0m \u001b[0;32mFalse\u001b[0m\u001b[0;34m\u001b[0m\u001b[0;34m\u001b[0m\u001b[0m\n\u001b[0;32m-> 1043\u001b[0;31m             \u001b[0;32mif\u001b[0m \u001b[0mself\u001b[0m\u001b[0;34m.\u001b[0m\u001b[0mdispatch_one_batch\u001b[0m\u001b[0;34m(\u001b[0m\u001b[0miterator\u001b[0m\u001b[0;34m)\u001b[0m\u001b[0;34m:\u001b[0m\u001b[0;34m\u001b[0m\u001b[0;34m\u001b[0m\u001b[0m\n\u001b[0m\u001b[1;32m   1044\u001b[0m                 \u001b[0mself\u001b[0m\u001b[0;34m.\u001b[0m\u001b[0m_iterating\u001b[0m \u001b[0;34m=\u001b[0m \u001b[0mself\u001b[0m\u001b[0;34m.\u001b[0m\u001b[0m_original_iterator\u001b[0m \u001b[0;32mis\u001b[0m \u001b[0;32mnot\u001b[0m \u001b[0;32mNone\u001b[0m\u001b[0;34m\u001b[0m\u001b[0;34m\u001b[0m\u001b[0m\n\u001b[1;32m   1045\u001b[0m \u001b[0;34m\u001b[0m\u001b[0m\n",
            "\u001b[0;32m/usr/local/lib/python3.7/dist-packages/joblib/parallel.py\u001b[0m in \u001b[0;36mdispatch_one_batch\u001b[0;34m(self, iterator)\u001b[0m\n\u001b[1;32m    859\u001b[0m                 \u001b[0;32mreturn\u001b[0m \u001b[0;32mFalse\u001b[0m\u001b[0;34m\u001b[0m\u001b[0;34m\u001b[0m\u001b[0m\n\u001b[1;32m    860\u001b[0m             \u001b[0;32melse\u001b[0m\u001b[0;34m:\u001b[0m\u001b[0;34m\u001b[0m\u001b[0;34m\u001b[0m\u001b[0m\n\u001b[0;32m--> 861\u001b[0;31m                 \u001b[0mself\u001b[0m\u001b[0;34m.\u001b[0m\u001b[0m_dispatch\u001b[0m\u001b[0;34m(\u001b[0m\u001b[0mtasks\u001b[0m\u001b[0;34m)\u001b[0m\u001b[0;34m\u001b[0m\u001b[0;34m\u001b[0m\u001b[0m\n\u001b[0m\u001b[1;32m    862\u001b[0m                 \u001b[0;32mreturn\u001b[0m \u001b[0;32mTrue\u001b[0m\u001b[0;34m\u001b[0m\u001b[0;34m\u001b[0m\u001b[0m\n\u001b[1;32m    863\u001b[0m \u001b[0;34m\u001b[0m\u001b[0m\n",
            "\u001b[0;32m/usr/local/lib/python3.7/dist-packages/joblib/parallel.py\u001b[0m in \u001b[0;36m_dispatch\u001b[0;34m(self, batch)\u001b[0m\n\u001b[1;32m    777\u001b[0m         \u001b[0;32mwith\u001b[0m \u001b[0mself\u001b[0m\u001b[0;34m.\u001b[0m\u001b[0m_lock\u001b[0m\u001b[0;34m:\u001b[0m\u001b[0;34m\u001b[0m\u001b[0;34m\u001b[0m\u001b[0m\n\u001b[1;32m    778\u001b[0m             \u001b[0mjob_idx\u001b[0m \u001b[0;34m=\u001b[0m \u001b[0mlen\u001b[0m\u001b[0;34m(\u001b[0m\u001b[0mself\u001b[0m\u001b[0;34m.\u001b[0m\u001b[0m_jobs\u001b[0m\u001b[0;34m)\u001b[0m\u001b[0;34m\u001b[0m\u001b[0;34m\u001b[0m\u001b[0m\n\u001b[0;32m--> 779\u001b[0;31m             \u001b[0mjob\u001b[0m \u001b[0;34m=\u001b[0m \u001b[0mself\u001b[0m\u001b[0;34m.\u001b[0m\u001b[0m_backend\u001b[0m\u001b[0;34m.\u001b[0m\u001b[0mapply_async\u001b[0m\u001b[0;34m(\u001b[0m\u001b[0mbatch\u001b[0m\u001b[0;34m,\u001b[0m \u001b[0mcallback\u001b[0m\u001b[0;34m=\u001b[0m\u001b[0mcb\u001b[0m\u001b[0;34m)\u001b[0m\u001b[0;34m\u001b[0m\u001b[0;34m\u001b[0m\u001b[0m\n\u001b[0m\u001b[1;32m    780\u001b[0m             \u001b[0;31m# A job can complete so quickly than its callback is\u001b[0m\u001b[0;34m\u001b[0m\u001b[0;34m\u001b[0m\u001b[0;34m\u001b[0m\u001b[0m\n\u001b[1;32m    781\u001b[0m             \u001b[0;31m# called before we get here, causing self._jobs to\u001b[0m\u001b[0;34m\u001b[0m\u001b[0;34m\u001b[0m\u001b[0;34m\u001b[0m\u001b[0m\n",
            "\u001b[0;32m/usr/local/lib/python3.7/dist-packages/joblib/_parallel_backends.py\u001b[0m in \u001b[0;36mapply_async\u001b[0;34m(self, func, callback)\u001b[0m\n\u001b[1;32m    206\u001b[0m     \u001b[0;32mdef\u001b[0m \u001b[0mapply_async\u001b[0m\u001b[0;34m(\u001b[0m\u001b[0mself\u001b[0m\u001b[0;34m,\u001b[0m \u001b[0mfunc\u001b[0m\u001b[0;34m,\u001b[0m \u001b[0mcallback\u001b[0m\u001b[0;34m=\u001b[0m\u001b[0;32mNone\u001b[0m\u001b[0;34m)\u001b[0m\u001b[0;34m:\u001b[0m\u001b[0;34m\u001b[0m\u001b[0;34m\u001b[0m\u001b[0m\n\u001b[1;32m    207\u001b[0m         \u001b[0;34m\"\"\"Schedule a func to be run\"\"\"\u001b[0m\u001b[0;34m\u001b[0m\u001b[0;34m\u001b[0m\u001b[0m\n\u001b[0;32m--> 208\u001b[0;31m         \u001b[0mresult\u001b[0m \u001b[0;34m=\u001b[0m \u001b[0mImmediateResult\u001b[0m\u001b[0;34m(\u001b[0m\u001b[0mfunc\u001b[0m\u001b[0;34m)\u001b[0m\u001b[0;34m\u001b[0m\u001b[0;34m\u001b[0m\u001b[0m\n\u001b[0m\u001b[1;32m    209\u001b[0m         \u001b[0;32mif\u001b[0m \u001b[0mcallback\u001b[0m\u001b[0;34m:\u001b[0m\u001b[0;34m\u001b[0m\u001b[0;34m\u001b[0m\u001b[0m\n\u001b[1;32m    210\u001b[0m             \u001b[0mcallback\u001b[0m\u001b[0;34m(\u001b[0m\u001b[0mresult\u001b[0m\u001b[0;34m)\u001b[0m\u001b[0;34m\u001b[0m\u001b[0;34m\u001b[0m\u001b[0m\n",
            "\u001b[0;32m/usr/local/lib/python3.7/dist-packages/joblib/_parallel_backends.py\u001b[0m in \u001b[0;36m__init__\u001b[0;34m(self, batch)\u001b[0m\n\u001b[1;32m    570\u001b[0m         \u001b[0;31m# Don't delay the application, to avoid keeping the input\u001b[0m\u001b[0;34m\u001b[0m\u001b[0;34m\u001b[0m\u001b[0;34m\u001b[0m\u001b[0m\n\u001b[1;32m    571\u001b[0m         \u001b[0;31m# arguments in memory\u001b[0m\u001b[0;34m\u001b[0m\u001b[0;34m\u001b[0m\u001b[0;34m\u001b[0m\u001b[0m\n\u001b[0;32m--> 572\u001b[0;31m         \u001b[0mself\u001b[0m\u001b[0;34m.\u001b[0m\u001b[0mresults\u001b[0m \u001b[0;34m=\u001b[0m \u001b[0mbatch\u001b[0m\u001b[0;34m(\u001b[0m\u001b[0;34m)\u001b[0m\u001b[0;34m\u001b[0m\u001b[0;34m\u001b[0m\u001b[0m\n\u001b[0m\u001b[1;32m    573\u001b[0m \u001b[0;34m\u001b[0m\u001b[0m\n\u001b[1;32m    574\u001b[0m     \u001b[0;32mdef\u001b[0m \u001b[0mget\u001b[0m\u001b[0;34m(\u001b[0m\u001b[0mself\u001b[0m\u001b[0;34m)\u001b[0m\u001b[0;34m:\u001b[0m\u001b[0;34m\u001b[0m\u001b[0;34m\u001b[0m\u001b[0m\n",
            "\u001b[0;32m/usr/local/lib/python3.7/dist-packages/joblib/parallel.py\u001b[0m in \u001b[0;36m__call__\u001b[0;34m(self)\u001b[0m\n\u001b[1;32m    261\u001b[0m         \u001b[0;32mwith\u001b[0m \u001b[0mparallel_backend\u001b[0m\u001b[0;34m(\u001b[0m\u001b[0mself\u001b[0m\u001b[0;34m.\u001b[0m\u001b[0m_backend\u001b[0m\u001b[0;34m,\u001b[0m \u001b[0mn_jobs\u001b[0m\u001b[0;34m=\u001b[0m\u001b[0mself\u001b[0m\u001b[0;34m.\u001b[0m\u001b[0m_n_jobs\u001b[0m\u001b[0;34m)\u001b[0m\u001b[0;34m:\u001b[0m\u001b[0;34m\u001b[0m\u001b[0;34m\u001b[0m\u001b[0m\n\u001b[1;32m    262\u001b[0m             return [func(*args, **kwargs)\n\u001b[0;32m--> 263\u001b[0;31m                     for func, args, kwargs in self.items]\n\u001b[0m\u001b[1;32m    264\u001b[0m \u001b[0;34m\u001b[0m\u001b[0m\n\u001b[1;32m    265\u001b[0m     \u001b[0;32mdef\u001b[0m \u001b[0m__reduce__\u001b[0m\u001b[0;34m(\u001b[0m\u001b[0mself\u001b[0m\u001b[0;34m)\u001b[0m\u001b[0;34m:\u001b[0m\u001b[0;34m\u001b[0m\u001b[0;34m\u001b[0m\u001b[0m\n",
            "\u001b[0;32m/usr/local/lib/python3.7/dist-packages/joblib/parallel.py\u001b[0m in \u001b[0;36m<listcomp>\u001b[0;34m(.0)\u001b[0m\n\u001b[1;32m    261\u001b[0m         \u001b[0;32mwith\u001b[0m \u001b[0mparallel_backend\u001b[0m\u001b[0;34m(\u001b[0m\u001b[0mself\u001b[0m\u001b[0;34m.\u001b[0m\u001b[0m_backend\u001b[0m\u001b[0;34m,\u001b[0m \u001b[0mn_jobs\u001b[0m\u001b[0;34m=\u001b[0m\u001b[0mself\u001b[0m\u001b[0;34m.\u001b[0m\u001b[0m_n_jobs\u001b[0m\u001b[0;34m)\u001b[0m\u001b[0;34m:\u001b[0m\u001b[0;34m\u001b[0m\u001b[0;34m\u001b[0m\u001b[0m\n\u001b[1;32m    262\u001b[0m             return [func(*args, **kwargs)\n\u001b[0;32m--> 263\u001b[0;31m                     for func, args, kwargs in self.items]\n\u001b[0m\u001b[1;32m    264\u001b[0m \u001b[0;34m\u001b[0m\u001b[0m\n\u001b[1;32m    265\u001b[0m     \u001b[0;32mdef\u001b[0m \u001b[0m__reduce__\u001b[0m\u001b[0;34m(\u001b[0m\u001b[0mself\u001b[0m\u001b[0;34m)\u001b[0m\u001b[0;34m:\u001b[0m\u001b[0;34m\u001b[0m\u001b[0;34m\u001b[0m\u001b[0m\n",
            "\u001b[0;32m/usr/local/lib/python3.7/dist-packages/sklearn/utils/fixes.py\u001b[0m in \u001b[0;36m__call__\u001b[0;34m(self, *args, **kwargs)\u001b[0m\n\u001b[1;32m    214\u001b[0m     \u001b[0;32mdef\u001b[0m \u001b[0m__call__\u001b[0m\u001b[0;34m(\u001b[0m\u001b[0mself\u001b[0m\u001b[0;34m,\u001b[0m \u001b[0;34m*\u001b[0m\u001b[0margs\u001b[0m\u001b[0;34m,\u001b[0m \u001b[0;34m**\u001b[0m\u001b[0mkwargs\u001b[0m\u001b[0;34m)\u001b[0m\u001b[0;34m:\u001b[0m\u001b[0;34m\u001b[0m\u001b[0;34m\u001b[0m\u001b[0m\n\u001b[1;32m    215\u001b[0m         \u001b[0;32mwith\u001b[0m \u001b[0mconfig_context\u001b[0m\u001b[0;34m(\u001b[0m\u001b[0;34m**\u001b[0m\u001b[0mself\u001b[0m\u001b[0;34m.\u001b[0m\u001b[0mconfig\u001b[0m\u001b[0;34m)\u001b[0m\u001b[0;34m:\u001b[0m\u001b[0;34m\u001b[0m\u001b[0;34m\u001b[0m\u001b[0m\n\u001b[0;32m--> 216\u001b[0;31m             \u001b[0;32mreturn\u001b[0m \u001b[0mself\u001b[0m\u001b[0;34m.\u001b[0m\u001b[0mfunction\u001b[0m\u001b[0;34m(\u001b[0m\u001b[0;34m*\u001b[0m\u001b[0margs\u001b[0m\u001b[0;34m,\u001b[0m \u001b[0;34m**\u001b[0m\u001b[0mkwargs\u001b[0m\u001b[0;34m)\u001b[0m\u001b[0;34m\u001b[0m\u001b[0;34m\u001b[0m\u001b[0m\n\u001b[0m\u001b[1;32m    217\u001b[0m \u001b[0;34m\u001b[0m\u001b[0m\n\u001b[1;32m    218\u001b[0m \u001b[0;34m\u001b[0m\u001b[0m\n",
            "\u001b[0;32m/usr/local/lib/python3.7/dist-packages/sklearn/model_selection/_validation.py\u001b[0m in \u001b[0;36m_fit_and_score\u001b[0;34m(estimator, X, y, scorer, train, test, verbose, parameters, fit_params, return_train_score, return_parameters, return_n_test_samples, return_times, return_estimator, split_progress, candidate_progress, error_score)\u001b[0m\n\u001b[1;32m    678\u001b[0m             \u001b[0mestimator\u001b[0m\u001b[0;34m.\u001b[0m\u001b[0mfit\u001b[0m\u001b[0;34m(\u001b[0m\u001b[0mX_train\u001b[0m\u001b[0;34m,\u001b[0m \u001b[0;34m**\u001b[0m\u001b[0mfit_params\u001b[0m\u001b[0;34m)\u001b[0m\u001b[0;34m\u001b[0m\u001b[0;34m\u001b[0m\u001b[0m\n\u001b[1;32m    679\u001b[0m         \u001b[0;32melse\u001b[0m\u001b[0;34m:\u001b[0m\u001b[0;34m\u001b[0m\u001b[0;34m\u001b[0m\u001b[0m\n\u001b[0;32m--> 680\u001b[0;31m             \u001b[0mestimator\u001b[0m\u001b[0;34m.\u001b[0m\u001b[0mfit\u001b[0m\u001b[0;34m(\u001b[0m\u001b[0mX_train\u001b[0m\u001b[0;34m,\u001b[0m \u001b[0my_train\u001b[0m\u001b[0;34m,\u001b[0m \u001b[0;34m**\u001b[0m\u001b[0mfit_params\u001b[0m\u001b[0;34m)\u001b[0m\u001b[0;34m\u001b[0m\u001b[0;34m\u001b[0m\u001b[0m\n\u001b[0m\u001b[1;32m    681\u001b[0m \u001b[0;34m\u001b[0m\u001b[0m\n\u001b[1;32m    682\u001b[0m     \u001b[0;32mexcept\u001b[0m \u001b[0mException\u001b[0m\u001b[0;34m:\u001b[0m\u001b[0;34m\u001b[0m\u001b[0;34m\u001b[0m\u001b[0m\n",
            "\u001b[0;32m/usr/local/lib/python3.7/dist-packages/keras/wrappers/scikit_learn.py\u001b[0m in \u001b[0;36mfit\u001b[0;34m(self, x, y, **kwargs)\u001b[0m\n\u001b[1;32m    162\u001b[0m     \u001b[0mfit_args\u001b[0m\u001b[0;34m.\u001b[0m\u001b[0mupdate\u001b[0m\u001b[0;34m(\u001b[0m\u001b[0mkwargs\u001b[0m\u001b[0;34m)\u001b[0m\u001b[0;34m\u001b[0m\u001b[0;34m\u001b[0m\u001b[0m\n\u001b[1;32m    163\u001b[0m \u001b[0;34m\u001b[0m\u001b[0m\n\u001b[0;32m--> 164\u001b[0;31m     \u001b[0mhistory\u001b[0m \u001b[0;34m=\u001b[0m \u001b[0mself\u001b[0m\u001b[0;34m.\u001b[0m\u001b[0mmodel\u001b[0m\u001b[0;34m.\u001b[0m\u001b[0mfit\u001b[0m\u001b[0;34m(\u001b[0m\u001b[0mx\u001b[0m\u001b[0;34m,\u001b[0m \u001b[0my\u001b[0m\u001b[0;34m,\u001b[0m \u001b[0;34m**\u001b[0m\u001b[0mfit_args\u001b[0m\u001b[0;34m)\u001b[0m\u001b[0;34m\u001b[0m\u001b[0;34m\u001b[0m\u001b[0m\n\u001b[0m\u001b[1;32m    165\u001b[0m \u001b[0;34m\u001b[0m\u001b[0m\n\u001b[1;32m    166\u001b[0m     \u001b[0;32mreturn\u001b[0m \u001b[0mhistory\u001b[0m\u001b[0;34m\u001b[0m\u001b[0;34m\u001b[0m\u001b[0m\n",
            "\u001b[0;32m/usr/local/lib/python3.7/dist-packages/keras/utils/traceback_utils.py\u001b[0m in \u001b[0;36merror_handler\u001b[0;34m(*args, **kwargs)\u001b[0m\n\u001b[1;32m     62\u001b[0m     \u001b[0mfiltered_tb\u001b[0m \u001b[0;34m=\u001b[0m \u001b[0;32mNone\u001b[0m\u001b[0;34m\u001b[0m\u001b[0;34m\u001b[0m\u001b[0m\n\u001b[1;32m     63\u001b[0m     \u001b[0;32mtry\u001b[0m\u001b[0;34m:\u001b[0m\u001b[0;34m\u001b[0m\u001b[0;34m\u001b[0m\u001b[0m\n\u001b[0;32m---> 64\u001b[0;31m       \u001b[0;32mreturn\u001b[0m \u001b[0mfn\u001b[0m\u001b[0;34m(\u001b[0m\u001b[0;34m*\u001b[0m\u001b[0margs\u001b[0m\u001b[0;34m,\u001b[0m \u001b[0;34m**\u001b[0m\u001b[0mkwargs\u001b[0m\u001b[0;34m)\u001b[0m\u001b[0;34m\u001b[0m\u001b[0;34m\u001b[0m\u001b[0m\n\u001b[0m\u001b[1;32m     65\u001b[0m     \u001b[0;32mexcept\u001b[0m \u001b[0mException\u001b[0m \u001b[0;32mas\u001b[0m \u001b[0me\u001b[0m\u001b[0;34m:\u001b[0m  \u001b[0;31m# pylint: disable=broad-except\u001b[0m\u001b[0;34m\u001b[0m\u001b[0;34m\u001b[0m\u001b[0m\n\u001b[1;32m     66\u001b[0m       \u001b[0mfiltered_tb\u001b[0m \u001b[0;34m=\u001b[0m \u001b[0m_process_traceback_frames\u001b[0m\u001b[0;34m(\u001b[0m\u001b[0me\u001b[0m\u001b[0;34m.\u001b[0m\u001b[0m__traceback__\u001b[0m\u001b[0;34m)\u001b[0m\u001b[0;34m\u001b[0m\u001b[0;34m\u001b[0m\u001b[0m\n",
            "\u001b[0;32m/usr/local/lib/python3.7/dist-packages/keras/engine/training.py\u001b[0m in \u001b[0;36mfit\u001b[0;34m(self, x, y, batch_size, epochs, verbose, callbacks, validation_split, validation_data, shuffle, class_weight, sample_weight, initial_epoch, steps_per_epoch, validation_steps, validation_batch_size, validation_freq, max_queue_size, workers, use_multiprocessing)\u001b[0m\n\u001b[1;32m   1382\u001b[0m                 _r=1):\n\u001b[1;32m   1383\u001b[0m               \u001b[0mcallbacks\u001b[0m\u001b[0;34m.\u001b[0m\u001b[0mon_train_batch_begin\u001b[0m\u001b[0;34m(\u001b[0m\u001b[0mstep\u001b[0m\u001b[0;34m)\u001b[0m\u001b[0;34m\u001b[0m\u001b[0;34m\u001b[0m\u001b[0m\n\u001b[0;32m-> 1384\u001b[0;31m               \u001b[0mtmp_logs\u001b[0m \u001b[0;34m=\u001b[0m \u001b[0mself\u001b[0m\u001b[0;34m.\u001b[0m\u001b[0mtrain_function\u001b[0m\u001b[0;34m(\u001b[0m\u001b[0miterator\u001b[0m\u001b[0;34m)\u001b[0m\u001b[0;34m\u001b[0m\u001b[0;34m\u001b[0m\u001b[0m\n\u001b[0m\u001b[1;32m   1385\u001b[0m               \u001b[0;32mif\u001b[0m \u001b[0mdata_handler\u001b[0m\u001b[0;34m.\u001b[0m\u001b[0mshould_sync\u001b[0m\u001b[0;34m:\u001b[0m\u001b[0;34m\u001b[0m\u001b[0;34m\u001b[0m\u001b[0m\n\u001b[1;32m   1386\u001b[0m                 \u001b[0mcontext\u001b[0m\u001b[0;34m.\u001b[0m\u001b[0masync_wait\u001b[0m\u001b[0;34m(\u001b[0m\u001b[0;34m)\u001b[0m\u001b[0;34m\u001b[0m\u001b[0;34m\u001b[0m\u001b[0m\n",
            "\u001b[0;32m/usr/local/lib/python3.7/dist-packages/tensorflow/python/util/traceback_utils.py\u001b[0m in \u001b[0;36merror_handler\u001b[0;34m(*args, **kwargs)\u001b[0m\n\u001b[1;32m    148\u001b[0m     \u001b[0mfiltered_tb\u001b[0m \u001b[0;34m=\u001b[0m \u001b[0;32mNone\u001b[0m\u001b[0;34m\u001b[0m\u001b[0;34m\u001b[0m\u001b[0m\n\u001b[1;32m    149\u001b[0m     \u001b[0;32mtry\u001b[0m\u001b[0;34m:\u001b[0m\u001b[0;34m\u001b[0m\u001b[0;34m\u001b[0m\u001b[0m\n\u001b[0;32m--> 150\u001b[0;31m       \u001b[0;32mreturn\u001b[0m \u001b[0mfn\u001b[0m\u001b[0;34m(\u001b[0m\u001b[0;34m*\u001b[0m\u001b[0margs\u001b[0m\u001b[0;34m,\u001b[0m \u001b[0;34m**\u001b[0m\u001b[0mkwargs\u001b[0m\u001b[0;34m)\u001b[0m\u001b[0;34m\u001b[0m\u001b[0;34m\u001b[0m\u001b[0m\n\u001b[0m\u001b[1;32m    151\u001b[0m     \u001b[0;32mexcept\u001b[0m \u001b[0mException\u001b[0m \u001b[0;32mas\u001b[0m \u001b[0me\u001b[0m\u001b[0;34m:\u001b[0m\u001b[0;34m\u001b[0m\u001b[0;34m\u001b[0m\u001b[0m\n\u001b[1;32m    152\u001b[0m       \u001b[0mfiltered_tb\u001b[0m \u001b[0;34m=\u001b[0m \u001b[0m_process_traceback_frames\u001b[0m\u001b[0;34m(\u001b[0m\u001b[0me\u001b[0m\u001b[0;34m.\u001b[0m\u001b[0m__traceback__\u001b[0m\u001b[0;34m)\u001b[0m\u001b[0;34m\u001b[0m\u001b[0;34m\u001b[0m\u001b[0m\n",
            "\u001b[0;32m/usr/local/lib/python3.7/dist-packages/tensorflow/python/eager/def_function.py\u001b[0m in \u001b[0;36m__call__\u001b[0;34m(self, *args, **kwds)\u001b[0m\n\u001b[1;32m    913\u001b[0m \u001b[0;34m\u001b[0m\u001b[0m\n\u001b[1;32m    914\u001b[0m       \u001b[0;32mwith\u001b[0m \u001b[0mOptionalXlaContext\u001b[0m\u001b[0;34m(\u001b[0m\u001b[0mself\u001b[0m\u001b[0;34m.\u001b[0m\u001b[0m_jit_compile\u001b[0m\u001b[0;34m)\u001b[0m\u001b[0;34m:\u001b[0m\u001b[0;34m\u001b[0m\u001b[0;34m\u001b[0m\u001b[0m\n\u001b[0;32m--> 915\u001b[0;31m         \u001b[0mresult\u001b[0m \u001b[0;34m=\u001b[0m \u001b[0mself\u001b[0m\u001b[0;34m.\u001b[0m\u001b[0m_call\u001b[0m\u001b[0;34m(\u001b[0m\u001b[0;34m*\u001b[0m\u001b[0margs\u001b[0m\u001b[0;34m,\u001b[0m \u001b[0;34m**\u001b[0m\u001b[0mkwds\u001b[0m\u001b[0;34m)\u001b[0m\u001b[0;34m\u001b[0m\u001b[0;34m\u001b[0m\u001b[0m\n\u001b[0m\u001b[1;32m    916\u001b[0m \u001b[0;34m\u001b[0m\u001b[0m\n\u001b[1;32m    917\u001b[0m       \u001b[0mnew_tracing_count\u001b[0m \u001b[0;34m=\u001b[0m \u001b[0mself\u001b[0m\u001b[0;34m.\u001b[0m\u001b[0mexperimental_get_tracing_count\u001b[0m\u001b[0;34m(\u001b[0m\u001b[0;34m)\u001b[0m\u001b[0;34m\u001b[0m\u001b[0;34m\u001b[0m\u001b[0m\n",
            "\u001b[0;32m/usr/local/lib/python3.7/dist-packages/tensorflow/python/eager/def_function.py\u001b[0m in \u001b[0;36m_call\u001b[0;34m(self, *args, **kwds)\u001b[0m\n\u001b[1;32m    945\u001b[0m       \u001b[0;31m# In this case we have created variables on the first call, so we run the\u001b[0m\u001b[0;34m\u001b[0m\u001b[0;34m\u001b[0m\u001b[0;34m\u001b[0m\u001b[0m\n\u001b[1;32m    946\u001b[0m       \u001b[0;31m# defunned version which is guaranteed to never create variables.\u001b[0m\u001b[0;34m\u001b[0m\u001b[0;34m\u001b[0m\u001b[0;34m\u001b[0m\u001b[0m\n\u001b[0;32m--> 947\u001b[0;31m       \u001b[0;32mreturn\u001b[0m \u001b[0mself\u001b[0m\u001b[0;34m.\u001b[0m\u001b[0m_stateless_fn\u001b[0m\u001b[0;34m(\u001b[0m\u001b[0;34m*\u001b[0m\u001b[0margs\u001b[0m\u001b[0;34m,\u001b[0m \u001b[0;34m**\u001b[0m\u001b[0mkwds\u001b[0m\u001b[0;34m)\u001b[0m  \u001b[0;31m# pylint: disable=not-callable\u001b[0m\u001b[0;34m\u001b[0m\u001b[0;34m\u001b[0m\u001b[0m\n\u001b[0m\u001b[1;32m    948\u001b[0m     \u001b[0;32melif\u001b[0m \u001b[0mself\u001b[0m\u001b[0;34m.\u001b[0m\u001b[0m_stateful_fn\u001b[0m \u001b[0;32mis\u001b[0m \u001b[0;32mnot\u001b[0m \u001b[0;32mNone\u001b[0m\u001b[0;34m:\u001b[0m\u001b[0;34m\u001b[0m\u001b[0;34m\u001b[0m\u001b[0m\n\u001b[1;32m    949\u001b[0m       \u001b[0;31m# Release the lock early so that multiple threads can perform the call\u001b[0m\u001b[0;34m\u001b[0m\u001b[0;34m\u001b[0m\u001b[0;34m\u001b[0m\u001b[0m\n",
            "\u001b[0;32m/usr/local/lib/python3.7/dist-packages/tensorflow/python/eager/function.py\u001b[0m in \u001b[0;36m__call__\u001b[0;34m(self, *args, **kwargs)\u001b[0m\n\u001b[1;32m   2955\u001b[0m        filtered_flat_args) = self._maybe_define_function(args, kwargs)\n\u001b[1;32m   2956\u001b[0m     return graph_function._call_flat(\n\u001b[0;32m-> 2957\u001b[0;31m         filtered_flat_args, captured_inputs=graph_function.captured_inputs)  # pylint: disable=protected-access\n\u001b[0m\u001b[1;32m   2958\u001b[0m \u001b[0;34m\u001b[0m\u001b[0m\n\u001b[1;32m   2959\u001b[0m   \u001b[0;34m@\u001b[0m\u001b[0mproperty\u001b[0m\u001b[0;34m\u001b[0m\u001b[0;34m\u001b[0m\u001b[0m\n",
            "\u001b[0;32m/usr/local/lib/python3.7/dist-packages/tensorflow/python/eager/function.py\u001b[0m in \u001b[0;36m_call_flat\u001b[0;34m(self, args, captured_inputs, cancellation_manager)\u001b[0m\n\u001b[1;32m   1852\u001b[0m       \u001b[0;31m# No tape is watching; skip to running the function.\u001b[0m\u001b[0;34m\u001b[0m\u001b[0;34m\u001b[0m\u001b[0;34m\u001b[0m\u001b[0m\n\u001b[1;32m   1853\u001b[0m       return self._build_call_outputs(self._inference_function.call(\n\u001b[0;32m-> 1854\u001b[0;31m           ctx, args, cancellation_manager=cancellation_manager))\n\u001b[0m\u001b[1;32m   1855\u001b[0m     forward_backward = self._select_forward_and_backward_functions(\n\u001b[1;32m   1856\u001b[0m         \u001b[0margs\u001b[0m\u001b[0;34m,\u001b[0m\u001b[0;34m\u001b[0m\u001b[0;34m\u001b[0m\u001b[0m\n",
            "\u001b[0;32m/usr/local/lib/python3.7/dist-packages/tensorflow/python/eager/function.py\u001b[0m in \u001b[0;36mcall\u001b[0;34m(self, ctx, args, cancellation_manager)\u001b[0m\n\u001b[1;32m    502\u001b[0m               \u001b[0minputs\u001b[0m\u001b[0;34m=\u001b[0m\u001b[0margs\u001b[0m\u001b[0;34m,\u001b[0m\u001b[0;34m\u001b[0m\u001b[0;34m\u001b[0m\u001b[0m\n\u001b[1;32m    503\u001b[0m               \u001b[0mattrs\u001b[0m\u001b[0;34m=\u001b[0m\u001b[0mattrs\u001b[0m\u001b[0;34m,\u001b[0m\u001b[0;34m\u001b[0m\u001b[0;34m\u001b[0m\u001b[0m\n\u001b[0;32m--> 504\u001b[0;31m               ctx=ctx)\n\u001b[0m\u001b[1;32m    505\u001b[0m         \u001b[0;32melse\u001b[0m\u001b[0;34m:\u001b[0m\u001b[0;34m\u001b[0m\u001b[0;34m\u001b[0m\u001b[0m\n\u001b[1;32m    506\u001b[0m           outputs = execute.execute_with_cancellation(\n",
            "\u001b[0;32m/usr/local/lib/python3.7/dist-packages/tensorflow/python/eager/execute.py\u001b[0m in \u001b[0;36mquick_execute\u001b[0;34m(op_name, num_outputs, inputs, attrs, ctx, name)\u001b[0m\n\u001b[1;32m     53\u001b[0m     \u001b[0mctx\u001b[0m\u001b[0;34m.\u001b[0m\u001b[0mensure_initialized\u001b[0m\u001b[0;34m(\u001b[0m\u001b[0;34m)\u001b[0m\u001b[0;34m\u001b[0m\u001b[0;34m\u001b[0m\u001b[0m\n\u001b[1;32m     54\u001b[0m     tensors = pywrap_tfe.TFE_Py_Execute(ctx._handle, device_name, op_name,\n\u001b[0;32m---> 55\u001b[0;31m                                         inputs, attrs, num_outputs)\n\u001b[0m\u001b[1;32m     56\u001b[0m   \u001b[0;32mexcept\u001b[0m \u001b[0mcore\u001b[0m\u001b[0;34m.\u001b[0m\u001b[0m_NotOkStatusException\u001b[0m \u001b[0;32mas\u001b[0m \u001b[0me\u001b[0m\u001b[0;34m:\u001b[0m\u001b[0;34m\u001b[0m\u001b[0;34m\u001b[0m\u001b[0m\n\u001b[1;32m     57\u001b[0m     \u001b[0;32mif\u001b[0m \u001b[0mname\u001b[0m \u001b[0;32mis\u001b[0m \u001b[0;32mnot\u001b[0m \u001b[0;32mNone\u001b[0m\u001b[0;34m:\u001b[0m\u001b[0;34m\u001b[0m\u001b[0;34m\u001b[0m\u001b[0m\n",
            "\u001b[0;31mKeyboardInterrupt\u001b[0m: "
          ]
        }
      ],
      "source": [
        "#CROSS-VALIDATION\n",
        "from sklearn.model_selection import StratifiedKFold\n",
        "drive_path = '/content/drive/MyDrive/'\n",
        "\n",
        "skf = sklearn.model_selection.KFold(n_splits=5)\n",
        "scoring = ['neg_mean_absolute_error', 'neg_mean_squared_error', 'neg_root_mean_squared_error']\n",
        "\n",
        "def create_model():\n",
        "  model = tf.keras.Sequential([\n",
        "      tf.keras.layers.Embedding(input_dim=10000, output_dim=128, input_length=300),\n",
        "      tf.keras.layers.Bidirectional(keras.layers.LSTM(64,return_sequences=True)), \n",
        "      #tf.keras.layers.Dropout(0.2),\n",
        "      tf.keras.layers.Bidirectional(keras.layers.LSTM(32)), \n",
        "      #tf.keras.layers.Dropout(0.2),\n",
        "      tf.keras.layers.Dense(24, activation='relu'),\n",
        "      tf.keras.layers.Dropout(0.2),\n",
        "      tf.keras.layers.Dense(1, activation='sigmoid')\n",
        "  ])\n",
        "\n",
        "  model.compile(loss='mse',\n",
        "                optimizer='adam',\n",
        "                metrics=['mae','mse',tf.keras.metrics.RootMeanSquaredError()])\n",
        "  \n",
        "  return model\n",
        "\n",
        "model = tf.keras.wrappers.scikit_learn.KerasRegressor(build_fn=create_model, epochs=3, batch_size=64, verbose=1,\n",
        "               callbacks= tf.keras.callbacks.ModelCheckpoint( filepath=drive_path + 'final_crossval'))\n",
        "#model.save(drive_path + 'final_3epoch_64batchsize')\n",
        "\n",
        "scores = sklearn.model_selection.cross_validate(model, encoded_reviews, labels, cv=skf, scoring=scoring)"
      ]
    },
    {
      "cell_type": "code",
      "execution_count": null,
      "metadata": {
        "id": "gX0sOjuLN0tr",
        "colab": {
          "base_uri": "https://localhost:8080/"
        },
        "outputId": "34ecef84-21c2-4ea7-9f0e-18c6d22abcae"
      },
      "outputs": [
        {
          "output_type": "stream",
          "name": "stdout",
          "text": [
            "[-0.09973759 -0.09759051 -0.10132905 -0.09914577 -0.09641648]\n",
            "[-0.16232344 -0.16428345 -0.16201525 -0.16170714 -0.16234903]\n",
            "[-0.0263489  -0.02698905 -0.02624894 -0.0261492  -0.02635721]\n"
          ]
        }
      ],
      "source": [
        "sorted(scores.keys())\n",
        "print(scores['test_neg_mean_absolute_error'])\n",
        "print(scores['test_neg_root_mean_squared_error'])\n",
        "print(scores['test_neg_mean_squared_error'])\n",
        "#print(scores.mean(), scores.std())"
      ]
    },
    {
      "cell_type": "code",
      "source": [
        "prediction = sklearn.model_selection.cross_val_predict(model, encoded_reviews, labels, cv=skf)\n",
        "\n",
        "print(\"mae:\",sklearn.metrics.mean_absolute_error(labels, prediction))\n",
        "print(\"mse:\",sklearn.metrics.mean_squared_error(labels, prediction, squared=True))\n",
        "print(\"rmse:\",sklearn.metrics.mean_squared_error(labels, prediction, squared=False))"
      ],
      "metadata": {
        "colab": {
          "base_uri": "https://localhost:8080/"
        },
        "id": "bkT7tllO2rEL",
        "outputId": "d4429b6f-a6a5-42c2-e241-89fd126c77d7"
      },
      "execution_count": null,
      "outputs": [
        {
          "output_type": "stream",
          "name": "stdout",
          "text": [
            "Epoch 1/3\n",
            "26754/26754 [==============================] - 1490s 55ms/step - loss: 0.0290 - mae: 0.1085 - mse: 0.0290 - root_mean_squared_error: 0.1702\n",
            "Epoch 2/3\n",
            "26754/26754 [==============================] - 1478s 55ms/step - loss: 0.0233 - mae: 0.0949 - mse: 0.0233 - root_mean_squared_error: 0.1526\n",
            "Epoch 3/3\n",
            "26754/26754 [==============================] - 1479s 55ms/step - loss: 0.0215 - mae: 0.0907 - mse: 0.0215 - root_mean_squared_error: 0.1467\n",
            "6689/6689 [==============================] - 148s 22ms/step\n",
            "Epoch 1/3\n",
            "26754/26754 [==============================] - 1484s 55ms/step - loss: 0.0290 - mae: 0.1082 - mse: 0.0290 - root_mean_squared_error: 0.1704\n",
            "Epoch 2/3\n",
            "26754/26754 [==============================] - 1494s 56ms/step - loss: 0.0233 - mae: 0.0946 - mse: 0.0233 - root_mean_squared_error: 0.1525\n",
            "Epoch 3/3\n",
            "26754/26754 [==============================] - 1494s 56ms/step - loss: 0.0215 - mae: 0.0905 - mse: 0.0215 - root_mean_squared_error: 0.1466\n",
            "6689/6689 [==============================] - 151s 22ms/step\n",
            "Epoch 1/3\n",
            "26754/26754 [==============================] - 1503s 56ms/step - loss: 0.0330 - mae: 0.1175 - mse: 0.0330 - root_mean_squared_error: 0.1816\n",
            "Epoch 2/3\n",
            "26754/26754 [==============================] - 1500s 56ms/step - loss: 0.0234 - mae: 0.0955 - mse: 0.0234 - root_mean_squared_error: 0.1531\n",
            "Epoch 3/3\n",
            "26754/26754 [==============================] - 1499s 56ms/step - loss: 0.0216 - mae: 0.0911 - mse: 0.0216 - root_mean_squared_error: 0.1471\n",
            "6689/6689 [==============================] - 151s 22ms/step\n",
            "Epoch 1/3\n",
            "26754/26754 [==============================] - 1506s 56ms/step - loss: 0.0294 - mae: 0.1092 - mse: 0.0294 - root_mean_squared_error: 0.1716\n",
            "Epoch 2/3\n",
            "26754/26754 [==============================] - 1502s 56ms/step - loss: 0.0232 - mae: 0.0947 - mse: 0.0232 - root_mean_squared_error: 0.1522\n",
            "Epoch 3/3\n",
            "26754/26754 [==============================] - 1503s 56ms/step - loss: 0.0214 - mae: 0.0903 - mse: 0.0214 - root_mean_squared_error: 0.1461\n",
            "6689/6689 [==============================] - 151s 22ms/step\n",
            "Epoch 1/3\n",
            "26754/26754 [==============================] - 1499s 56ms/step - loss: 0.0293 - mae: 0.1084 - mse: 0.0293 - root_mean_squared_error: 0.1712\n",
            "Epoch 2/3\n",
            "26754/26754 [==============================] - 1498s 56ms/step - loss: 0.0233 - mae: 0.0950 - mse: 0.0233 - root_mean_squared_error: 0.1528\n",
            "Epoch 3/3\n",
            "26754/26754 [==============================] - 1489s 56ms/step - loss: 0.0215 - mae: 0.0907 - mse: 0.0215 - root_mean_squared_error: 0.1466\n",
            "6689/6689 [==============================] - 149s 22ms/step\n",
            "mae: 0.09197083851403423\n",
            "mse: 0.02290672550159661\n",
            "rmse: 0.1513496795556456\n"
          ]
        }
      ]
    },
    {
      "cell_type": "code",
      "source": [
        "sorted(scores.keys())"
      ],
      "metadata": {
        "colab": {
          "base_uri": "https://localhost:8080/"
        },
        "id": "GBc2bWxn1wv9",
        "outputId": "94bdaf58-9d34-4277-cbfc-3a8111629ec8"
      },
      "execution_count": null,
      "outputs": [
        {
          "output_type": "execute_result",
          "data": {
            "text/plain": [
              "['fit_time',\n",
              " 'score_time',\n",
              " 'test_neg_mean_absolute_error',\n",
              " 'test_neg_mean_squared_error',\n",
              " 'test_neg_root_mean_squared_error']"
            ]
          },
          "metadata": {},
          "execution_count": 10
        }
      ]
    },
    {
      "cell_type": "code",
      "execution_count": null,
      "metadata": {
        "id": "I2nOx6Q7ngqd"
      },
      "outputs": [],
      "source": [
        "#                                        val split   =     0 , 0.1\n",
        "#model.save('/content/drive/MyDrive/my_model_1epoch')  0.187 , 0.201\n",
        "#model.save('/content/drive/MyDrive/my_model_2epoch')  0.187 , 0.194\n",
        "#model.save('/content/drive/MyDrive/my_model_5epoch')  0.189 , 0.190\n",
        "#model.save('/content/drive/MyDrive/my_model_10epoch') 0.197 , 0.198\n",
        "#model.save('/content/drive/MyDrive/my_model_20epoch') 0.202 , 0.202\n",
        "#model.save('/content/drive/MyDrive/my_model_30epoch') 0.209 ,\n",
        "#\n",
        "#model.save('/content/drive/MyDrive/my_model_1epoch_100K')  0.164\n",
        "#model.save('/content/drive/MyDrive/my_model_2epoch_100K')  0.149\n",
        "#model.save('/content/drive/MyDrive/my_model_5epoch_100K')  0.147\n",
        "#\n",
        "#model.save('/content/drive/MyDrive/my_model_1epoch_770K_val')       0.105\n",
        "#\n",
        "#model.save('/content/drive/MyDrive/my_model_1epoch_770K_stratify')  0.106\n",
        "#model.save('/content/drive/MyDrive/my_model_2epoch_770K_stratify')  0.102\n",
        "#model.save('/content/drive/MyDrive/my_model_5epoch_770K_stratify')  0.096\n",
        "#\n",
        "#\n",
        "#\n",
        "#model.save('/content/drive/MyDrive/my_model_1epoch_770K')  0.103\n",
        "#model.save('/content/drive/MyDrive/my_model_2epoch_770K')  0.099\n",
        "#model.save('/content/drive/MyDrive/my_model_5epoch_770K')  0.096\n",
        "#\n",
        "#model.save('/content/drive/MyDrive/my_model_1epoch_770K_2lstm_NOdrop') #0.107\n",
        "#\n",
        "#model.save('/content/drive/MyDrive/my_model_1epoch_770K_2lstm_drop')  #0.100\n",
        "#model.save('/content/drive/MyDrive/my_model_5epoch_770K_2lstm_drop')  #0.091\n",
        "#model.save('/content/drive/MyDrive/my_model_10epoch_770K_2lstm_drop') #0.087\n",
        "#\n",
        "#model.save('/content/drive/MyDrive/my_model_1epoch_770K_2lstm_drop_adam0.01')  #0.115"
      ]
    },
    {
      "cell_type": "code",
      "execution_count": null,
      "metadata": {
        "id": "P9AmRrJSBF3v"
      },
      "outputs": [],
      "source": [
        "drive_path = '/content/drive/MyDrive/'\n",
        "# PRO\n",
        "#                                                                                     # 200 DEGİL 300\n",
        "#model.save(drive_path + 'ELECTRONİCS_1epoch_PRO_3M_2lstm_drop_DIM_200-20000')        #0.122 / 0.184\n",
        "#\n",
        "#                                                                                     # 200 DEGİL 300\n",
        "#model.save(drive_path + 'ELECTRONİCS_1epoch_PRO_3M_2lstm_drop_DIM_200-10000')        #0.115 / 0.180\n",
        "#model.save(drive_path + 'ELECTRONİCS_2epoch_PRO_3M_2lstm_drop_DIM_200-10000')        #0.114 / 0.171\n",
        "#model.save(drive_path + 'ELECTRONİCS_3epoch_PRO_3M_2lstm_drop_DIM_200-10000')        #0.108 / 0.167\n",
        "#model.save(drive_path + 'ELECTRONİCS_5epoch_PRO_3M_2lstm_drop_DIM_200-10000')        #0.101 / 0.163\n",
        "#model.save(drive_path + 'ELECTRONİCS_10epoch_PRO_3M_2lstm_drop_DIM_200-10000')       #0.111 / 0.172\n",
        "#\n",
        "#                                                                                                # 200 DEGİL 300\n",
        "#model.save(drive_path + 'ELECTRONİCS_1epoch_PRO_3M_2lstm_drop_DIM_200-10000_outputdim-128')     #0.114 / 0.182\n",
        "#\n",
        "#model.save(drive_path + 'ELECTRONİCS_1epoch_PRO_3M_2lstm_drop_DIM_100-10000')                    #0.120 / 0.185\n",
        "#model.save(drive_path + 'ELECTRONİCS_1epoch_PRO_3M_2lstm_drop_DIM_100-10000_2LSTM_32_16')        #0.122 / 0.184\n",
        "#\n",
        "#model.save(drive_path + 'ELECTRONİCS_1epoch_PRO_3M_2lstm_drop_DIM_100-10000_1LSTM_32')           #0.124 / 0.187\n",
        "#model.save(drive_path + 'ELECTRONİCS_1epoch_PRO_3M_2lstm_drop_DIM_100-20000_1LSTM_32')           #0.125 / 0.185\n",
        "#model.save(drive_path + 'ELECTRONİCS_1epoch_PRO_3M_2lstm_drop_DIM_200-10000_1LSTM_32')           #0.128 / 0.187\n",
        "#model.save(drive_path + 'ELECTRONİCS_1epoch_PRO_3M_2lstm_drop_DIM_300-10000_1LSTM_32')           #0.121 / 0.185\n",
        "#model.save(drive_path + 'ELECTRONİCS_1epoch_PRO_3M_2lstm_drop_DIM_400-10000_1LSTM_32')           #0.125 / 0.185\n",
        "#\n",
        "#model.save(drive_path + 'ELECTRONİCS_1epoch_PRO_3M_2lstm_drop_DIM_300-10000_2LSTM_64_32_outputdim-128')                                 #0.119 / 0.182\n",
        "#model.save(drive_path + 'ELECTRONİCS_1epoch_PRO_3M_2lstm_PARTİAL_0.2+0.1=0.3_drop_DIM_300-10000_2LSTM_64_32_outputdim-128')             #0.123 / 0.183\n",
        "#\n",
        "#model.save(drive_path + 'ELECTRONİCS_1epoch_PRO_3M_2lstm_PARTİAL_0.5drop_DIM_300-10000_2LSTM_64_32_outputdim-128') #only 0.5 drop       #0.109 / 0.182\n",
        "#model.save(drive_path + 'ELECTRONİCS_2epoch_PRO_3M_2lstm_PARTİAL_0.5drop_DIM_300-10000_2LSTM_64_32_outputdim-128')                      #0.108 / 0.178\n",
        "#model.save(drive_path + 'ELECTRONİCS_3epoch_PRO_3M_2lstm_PARTİAL_0.5drop_DIM_300-10000_2LSTM_64_32_outputdim-128')                      #0.105 / 0.177\n",
        "#model.save(drive_path + 'ELECTRONİCS_5epoch_PRO_3M_2lstm_PARTİAL_0.5drop_DIM_300-10000_2LSTM_64_32_outputdim-128')                      #0.105 / 0.178\n",
        "#\n",
        "#model.save(drive_path + 'ELECTRONİCS_1epoch_PRO_3M_2lstm_PARTİALdrop_DIM_300-10000_2LSTM_64_32_outputdim-128')    #only 0.2 drop last   #0.115 / 0.176\n",
        "#model.save(drive_path + 'ELECTRONİCS_2epoch_PRO_3M_2lstm_PARTİALdrop_DIM_300-10000_2LSTM_64_32_outputdim-128')                          #0.109 / 0.169\n",
        "#model.save(drive_path + 'ELECTRONİCS_3epoch_PRO_3M_2lstm_PARTİALdrop_DIM_300-10000_2LSTM_64_32_outputdim-128')                          #0.107 / 0.165\n",
        "#model.save(drive_path + 'ELECTRONİCS_5epoch_PRO_3M_2lstm_PARTİALdrop_DIM_300-10000_2LSTM_64_32_outputdim-128')                          #0.110 / 0.173\n",
        "#model.save(drive_path + 'ELECTRONİCS_10epoch_PRO_3M_2lstm_PARTİALdrop_DIM_300-10000_2LSTM_64_32_outputdim-128')                         #0.111 / 0.176"
      ]
    },
    {
      "cell_type": "code",
      "execution_count": null,
      "metadata": {
        "id": "aCGxcO-tWlVG"
      },
      "outputs": [],
      "source": [
        "#TOYS - PRO - 4,5M\n",
        "drive_path = '/content/drive/MyDrive/'\n",
        "\n",
        "#model.save(drive_path + 'TOYS_1epoch_2lstm_drop0.2_DIM_300-10000_leakyrelu_tanh')                      #0.198 / 0.318\n",
        "#model.save(drive_path + 'TOYS_1epoch_2lstm_drop0.2_DIM_300-10000_relu_sigmoid')                        #0.099 / 0.160\n",
        "#model.save(drive_path + 'TOYS_1epoch_2lstm_drop0.5_DIM_300-10000_relu_sigmoid')                        #0.094 / 0.165\n",
        "#model.save(drive_path + 'TOYS_1epoch_2lstm_drop0.5_DIM_300-10000_relu_sigmoid_normalbatchsize')        #0.090 / 0.150\n",
        "#model.save(drive_path + 'TOYS_2epoch_2lstm_drop0.5_DIM_300-10000_relu_sigmoid_normalbatchsize')        #0.088 / 0.149\n",
        "#\n",
        "#model.save(drive_path + 'TOYS_1epoch_2lstm_drop0.2_DIM_300-10000_relu_sigmoid_normalbatchsize_FİNAL')   #0.094 / 0.149\n",
        "#model.save(drive_path + 'TOYS_2epoch_2lstm_drop0.2_DIM_300-10000_relu_sigmoid_normalbatchsize_FİNAL')   #0.088 / 0.147\n",
        "#\n",
        "#model.save(drive_path + 'TOYS_1epoch_2lstm_drop0.5_DIM_300-10000_relu_sigmoid_normalbatchsize_FİNAL')   #0.085 / 0.150\n",
        "#model.save(drive_path + 'TOYS_2epoch_2lstm_drop0.5_DIM_300-10000_relu_sigmoid_normalbatchsize_FİNAL')    #0.083 / 0.151\n",
        "\n",
        "#"
      ]
    },
    {
      "cell_type": "code",
      "source": [
        "# 3 CLASS 1 Million in total\n",
        "drive_path = '/content/drive/MyDrive/'\n",
        "\n",
        "#model.save(drive_path + 'TOYS_1Milion_3class_final_1epoch')       #0.077 / 0.175       0.080 / 0.177\n",
        "#model.save(drive_path + 'TOYS_1Milion_3class_final_2epoch')       #0.075 / 0.173       0.075 / 0.171\n",
        "#model.save(drive_path + 'TOYS_1Milion_3class_final_3epoch')        #0.074 /  0.173     0.073   0.173\n",
        "\n",
        "# all data 3 class\n",
        "\n",
        "#model.save(drive_path + 'TOYS_alldata_3class_final_1epoch')       #0.070 / 0.166\n",
        "#model.save(drive_path + 'TOYS_alldata_3class_final_2epoch')       0.069 0.164 # ÇÖP\n",
        "\n",
        "#model.save(drive_path + 'TOYS_alldata_5class_final_1epoch_128batchsize')  #0.091 / 0.149\n",
        "#model.save(drive_path + 'TOYS_alldata_5class_final_2epoch_128batchsize')   #0.088 / 0.146\n",
        "#model.save(drive_path + 'TOYS_alldata_5class_final_3epoch_128batchsize')   ÇÖP\n",
        "\n",
        "#model.save(drive_path + 'TOYS_alldata_3class_final_1epoch_128batchsize') #0.068 / 0.166\n",
        "#model.save(drive_path + 'TOYS_alldata_3class_final_2epoch_128batchsize')  #0.072 / 0.163"
      ],
      "metadata": {
        "colab": {
          "base_uri": "https://localhost:8080/"
        },
        "id": "0m8jLEv2s41x",
        "outputId": "4fd62416-727a-4852-a735-81b1c4bd5925"
      },
      "execution_count": null,
      "outputs": [
        {
          "output_type": "stream",
          "name": "stderr",
          "text": [
            "WARNING:absl:Found untraced functions such as lstm_cell_13_layer_call_fn, lstm_cell_13_layer_call_and_return_conditional_losses, lstm_cell_14_layer_call_fn, lstm_cell_14_layer_call_and_return_conditional_losses, lstm_cell_16_layer_call_fn while saving (showing 5 of 8). These functions will not be directly callable after loading.\n"
          ]
        },
        {
          "output_type": "stream",
          "name": "stdout",
          "text": [
            "INFO:tensorflow:Assets written to: /content/drive/MyDrive/TOYS_alldata_5class_final_3epoch_128batchsize/assets\n"
          ]
        },
        {
          "output_type": "stream",
          "name": "stderr",
          "text": [
            "INFO:tensorflow:Assets written to: /content/drive/MyDrive/TOYS_alldata_5class_final_3epoch_128batchsize/assets\n",
            "WARNING:absl:<keras.layers.recurrent.LSTMCell object at 0x7ff5455ce050> has the same name 'LSTMCell' as a built-in Keras object. Consider renaming <class 'keras.layers.recurrent.LSTMCell'> to avoid naming conflicts when loading with `tf.keras.models.load_model`. If renaming is not possible, pass the object in the `custom_objects` parameter of the load function.\n",
            "WARNING:absl:<keras.layers.recurrent.LSTMCell object at 0x7ff545586b10> has the same name 'LSTMCell' as a built-in Keras object. Consider renaming <class 'keras.layers.recurrent.LSTMCell'> to avoid naming conflicts when loading with `tf.keras.models.load_model`. If renaming is not possible, pass the object in the `custom_objects` parameter of the load function.\n",
            "WARNING:absl:<keras.layers.recurrent.LSTMCell object at 0x7ff545578290> has the same name 'LSTMCell' as a built-in Keras object. Consider renaming <class 'keras.layers.recurrent.LSTMCell'> to avoid naming conflicts when loading with `tf.keras.models.load_model`. If renaming is not possible, pass the object in the `custom_objects` parameter of the load function.\n",
            "WARNING:absl:<keras.layers.recurrent.LSTMCell object at 0x7ff5830ba690> has the same name 'LSTMCell' as a built-in Keras object. Consider renaming <class 'keras.layers.recurrent.LSTMCell'> to avoid naming conflicts when loading with `tf.keras.models.load_model`. If renaming is not possible, pass the object in the `custom_objects` parameter of the load function.\n"
          ]
        }
      ]
    },
    {
      "cell_type": "code",
      "execution_count": null,
      "metadata": {
        "colab": {
          "base_uri": "https://localhost:8080/"
        },
        "id": "Fs1lQlO2oKmn",
        "outputId": "4655cb34-2b99-4dd9-dadc-97b1449464c6"
      },
      "outputs": [
        {
          "output_type": "stream",
          "name": "stdout",
          "text": [
            "Model: \"sequential\"\n",
            "_________________________________________________________________\n",
            " Layer (type)                Output Shape              Param #   \n",
            "=================================================================\n",
            " embedding (Embedding)       (None, 300, 128)          1280000   \n",
            "                                                                 \n",
            " bidirectional (Bidirectiona  (None, 300, 128)         98816     \n",
            " l)                                                              \n",
            "                                                                 \n",
            " bidirectional_1 (Bidirectio  (None, 64)               41216     \n",
            " nal)                                                            \n",
            "                                                                 \n",
            " dense (Dense)               (None, 24)                1560      \n",
            "                                                                 \n",
            " dropout (Dropout)           (None, 24)                0         \n",
            "                                                                 \n",
            " dense_1 (Dense)             (None, 1)                 25        \n",
            "                                                                 \n",
            "=================================================================\n",
            "Total params: 1,421,617\n",
            "Trainable params: 1,421,617\n",
            "Non-trainable params: 0\n",
            "_________________________________________________________________\n"
          ]
        }
      ],
      "source": [
        "drive_path = '/content/drive/MyDrive/'\n",
        "model = tf.keras.models.load_model(drive_path + 'TOYS_alldata_5class_final_1epoch_128batchsize')\n",
        "model.summary()"
      ]
    },
    {
      "cell_type": "code",
      "execution_count": null,
      "metadata": {
        "id": "wPqwTfu6o68m"
      },
      "outputs": [],
      "source": [
        "prediction = model.predict(encoded_test)"
      ]
    },
    {
      "cell_type": "code",
      "execution_count": null,
      "metadata": {
        "colab": {
          "base_uri": "https://localhost:8080/"
        },
        "id": "L31ldsxMJk5s",
        "outputId": "681d0c05-dbe6-40c9-ef88-a3febad4eb0d"
      },
      "outputs": [
        {
          "output_type": "stream",
          "name": "stdout",
          "text": [
            "mae: 0.09027855468236254\n",
            "mse: 0.021330572895132693\n",
            "rmse: 0.1460498986481425\n"
          ]
        }
      ],
      "source": [
        "print(\"mae:\",sklearn.metrics.mean_absolute_error(test_labels, prediction))\n",
        "print(\"mse:\",sklearn.metrics.mean_squared_error(test_labels, prediction, squared=True))\n",
        "print(\"rmse:\",sklearn.metrics.mean_squared_error(test_labels, prediction, squared=False))"
      ]
    },
    {
      "cell_type": "code",
      "execution_count": null,
      "metadata": {
        "id": "h0Z1Ie3f1nyQ"
      },
      "outputs": [],
      "source": [
        "filter_arr1 = []\n",
        "filter_arr2 = []\n",
        "filter_arr3 = []\n",
        "filter_arr4 = []\n",
        "filter_arr5 = []\n",
        "    \n",
        "for element in labels:\n",
        "  if element == 0:\n",
        "    filter_arr1.append(True)\n",
        "    filter_arr2.append(False)\n",
        "    filter_arr3.append(False)\n",
        "    filter_arr4.append(False)\n",
        "    filter_arr5.append(False)\n",
        "  elif element == 0.25:\n",
        "    filter_arr1.append(False)\n",
        "    filter_arr2.append(True)\n",
        "    filter_arr3.append(False)\n",
        "    filter_arr4.append(False)\n",
        "    filter_arr5.append(False)\n",
        "  elif element == 0.50:\n",
        "    filter_arr1.append(False)\n",
        "    filter_arr2.append(False)\n",
        "    filter_arr3.append(True)\n",
        "    filter_arr4.append(False)\n",
        "    filter_arr5.append(False)\n",
        "  elif element == 0.75:\n",
        "    filter_arr1.append(False)\n",
        "    filter_arr2.append(False)\n",
        "    filter_arr3.append(False)\n",
        "    filter_arr4.append(True)\n",
        "    filter_arr5.append(False)\n",
        "  elif element == 1:\n",
        "    filter_arr1.append(False)\n",
        "    filter_arr2.append(False)\n",
        "    filter_arr3.append(False)\n",
        "    filter_arr4.append(False)\n",
        "    filter_arr5.append(True)\n",
        "\n",
        "newarr1 = prediction[filter_arr1]\n",
        "newarr2 = prediction[filter_arr2]\n",
        "newarr3 = prediction[filter_arr3]\n",
        "newarr4 = prediction[filter_arr4]\n",
        "newarr5 = prediction[filter_arr5]\n",
        "\n",
        "newarr1_test = labels[filter_arr1]\n",
        "newarr2_test = labels[filter_arr2]\n",
        "newarr3_test = labels[filter_arr3]\n",
        "newarr4_test = labels[filter_arr4]\n",
        "newarr5_test = labels[filter_arr5]"
      ]
    },
    {
      "cell_type": "code",
      "execution_count": null,
      "metadata": {
        "colab": {
          "base_uri": "https://localhost:8080/",
          "height": 456
        },
        "id": "qMjVWiMEl5Tg",
        "outputId": "ed87a3a4-ec19-4102-a836-7b238e60d413"
      },
      "outputs": [
        {
          "output_type": "stream",
          "name": "stdout",
          "text": [
            "rmse 1 star: 0.2635823194115287\n",
            "rmse 2 star: 0.22205229597231885\n",
            "rmse 3 star: 0.22783706542663712\n",
            "rmse 4 star: 0.1809188674121394\n",
            "rmse 5 star: 0.09377759762360856\n"
          ]
        },
        {
          "output_type": "execute_result",
          "data": {
            "text/plain": [
              "(array([84747., 36852., 21295., 12366.,  7206.,  4442.,  2482.,  1972.,\n",
              "         1831.,  2379.]),\n",
              " array([6.5238023e-04, 1.0048176e-01, 2.0031115e-01, 3.0014053e-01,\n",
              "        3.9996994e-01, 4.9979931e-01, 5.9962869e-01, 6.9945806e-01,\n",
              "        7.9928750e-01, 8.9911687e-01, 9.9894625e-01], dtype=float32),\n",
              " <a list of 10 Patch objects>)"
            ]
          },
          "metadata": {},
          "execution_count": 12
        },
        {
          "output_type": "display_data",
          "data": {
            "text/plain": [
              "<Figure size 432x288 with 1 Axes>"
            ],
            "image/png": "[encoded data removed]"
          },
          "metadata": {
            "needs_background": "light"
          }
        }
      ],
      "source": [
        "print(\"rmse 1 star:\",sklearn.metrics.mean_squared_error(newarr1_test, newarr1, squared=False))\n",
        "print(\"rmse 2 star:\",sklearn.metrics.mean_squared_error(newarr2_test, newarr2, squared=False))\n",
        "print(\"rmse 3 star:\",sklearn.metrics.mean_squared_error(newarr3_test, newarr3, squared=False))\n",
        "print(\"rmse 4 star:\",sklearn.metrics.mean_squared_error(newarr4_test, newarr4, squared=False))\n",
        "print(\"rmse 5 star:\",sklearn.metrics.mean_squared_error(newarr5_test, newarr5, squared=False))\n",
        "\n",
        "plt.hist(newarr1,  color = \"red\", ec=\"red\")"
      ]
    },
    {
      "cell_type": "code",
      "source": [
        "plt.hist(newarr2,  color = \"gold\", ec=\"gold\")"
      ],
      "metadata": {
        "colab": {
          "base_uri": "https://localhost:8080/",
          "height": 370
        },
        "id": "2jNaj-NnHh3n",
        "outputId": "73d1ccf8-f081-43bc-f7b6-e218194769c9"
      },
      "execution_count": null,
      "outputs": [
        {
          "output_type": "execute_result",
          "data": {
            "text/plain": [
              "(array([13949., 19278., 19308., 16635., 12784.,  8945.,  4402.,  2748.,\n",
              "         1911.,  1560.]),\n",
              " array([0.00165434, 0.10128449, 0.20091464, 0.30054477, 0.40017492,\n",
              "        0.49980506, 0.5994352 , 0.6990654 , 0.7986955 , 0.8983257 ,\n",
              "        0.9979558 ], dtype=float32),\n",
              " <a list of 10 Patch objects>)"
            ]
          },
          "metadata": {},
          "execution_count": 13
        },
        {
          "output_type": "display_data",
          "data": {
            "text/plain": [
              "<Figure size 432x288 with 1 Axes>"
            ],
            "image/png": "[encoded data removed]"
          },
          "metadata": {
            "needs_background": "light"
          }
        }
      ]
    },
    {
      "cell_type": "code",
      "source": [
        "plt.hist(newarr3,  color = \"green\", ec=\"green\")"
      ],
      "metadata": {
        "colab": {
          "base_uri": "https://localhost:8080/",
          "height": 371
        },
        "id": "E555nUQWHh-S",
        "outputId": "e99edaf4-68d2-43c7-cee7-450a6d07188b"
      },
      "execution_count": null,
      "outputs": [
        {
          "output_type": "execute_result",
          "data": {
            "text/plain": [
              "(array([ 2942.,  7704., 12886., 18430., 26271., 33760., 23341., 17859.,\n",
              "        13433., 13600.]),\n",
              " array([0.00448084, 0.10391191, 0.20334297, 0.30277404, 0.4022051 ,\n",
              "        0.5016362 , 0.60106725, 0.70049834, 0.7999294 , 0.8993605 ,\n",
              "        0.9987915 ], dtype=float32),\n",
              " <a list of 10 Patch objects>)"
            ]
          },
          "metadata": {},
          "execution_count": 14
        },
        {
          "output_type": "display_data",
          "data": {
            "text/plain": [
              "<Figure size 432x288 with 1 Axes>"
            ],
            "image/png": "[encoded data removed]"
          },
          "metadata": {
            "needs_background": "light"
          }
        }
      ]
    },
    {
      "cell_type": "code",
      "source": [
        "plt.hist(newarr4,  color = \"cyan\", ec=\"cyan\")"
      ],
      "metadata": {
        "colab": {
          "base_uri": "https://localhost:8080/",
          "height": 369
        },
        "id": "5mO8jHAIHiD1",
        "outputId": "a01a39e3-d670-4116-8b7a-7a234f23b5d6"
      },
      "execution_count": null,
      "outputs": [
        {
          "output_type": "execute_result",
          "data": {
            "text/plain": [
              "(array([   435.,   1041.,   2120.,   4115.,   7570.,  17609.,  28467.,\n",
              "         52865.,  67633., 156457.]),\n",
              " array([0.00316338, 0.10278488, 0.20240639, 0.30202788, 0.40164942,\n",
              "        0.5012709 , 0.6008924 , 0.7005139 , 0.80013543, 0.8997569 ,\n",
              "        0.99937844], dtype=float32),\n",
              " <a list of 10 Patch objects>)"
            ]
          },
          "metadata": {},
          "execution_count": 15
        },
        {
          "output_type": "display_data",
          "data": {
            "text/plain": [
              "<Figure size 432x288 with 1 Axes>"
            ],
            "image/png": "[encoded data removed]"
          },
          "metadata": {
            "needs_background": "light"
          }
        }
      ]
    },
    {
      "cell_type": "code",
      "source": [
        "plt.hist(newarr5,  color = \"blue\", ec=\"blue\")"
      ],
      "metadata": {
        "colab": {
          "base_uri": "https://localhost:8080/",
          "height": 380
        },
        "id": "pgsUcjO4HiKo",
        "outputId": "3ae8f019-1ef2-4391-f1bf-6d7e807b2a75"
      },
      "execution_count": null,
      "outputs": [
        {
          "output_type": "execute_result",
          "data": {
            "text/plain": [
              "(array([5.32000e+02, 9.23000e+02, 1.49200e+03, 2.29600e+03, 3.67100e+03,\n",
              "        6.68500e+03, 1.24270e+04, 3.04720e+04, 9.49210e+04, 1.20122e+06]),\n",
              " array([0.00258519, 0.10228106, 0.20197693, 0.3016728 , 0.40136865,\n",
              "        0.50106454, 0.6007604 , 0.70045626, 0.8001521 , 0.899848  ,\n",
              "        0.99954385], dtype=float32),\n",
              " <a list of 10 Patch objects>)"
            ]
          },
          "metadata": {},
          "execution_count": 16
        },
        {
          "output_type": "display_data",
          "data": {
            "text/plain": [
              "<Figure size 432x288 with 1 Axes>"
            ],
            "image/png": "[encoded data removed]"
          },
          "metadata": {
            "needs_background": "light"
          }
        }
      ]
    },
    {
      "cell_type": "code",
      "execution_count": null,
      "metadata": {
        "colab": {
          "base_uri": "https://localhost:8080/",
          "height": 726
        },
        "id": "KGWIUah1ppgk",
        "outputId": "c0306f85-672e-4b08-9f81-d0b7b9b47885"
      },
      "outputs": [
        {
          "output_type": "execute_result",
          "data": {
            "text/plain": [
              "(array([1.31000e+02, 1.81000e+02, 2.20000e+02, 2.63000e+02, 2.97000e+02,\n",
              "        3.63000e+02, 4.41000e+02, 4.99000e+02, 5.52000e+02, 6.62000e+02,\n",
              "        7.64000e+02, 8.70000e+02, 1.04100e+03, 1.23700e+03, 1.39300e+03,\n",
              "        1.69400e+03, 2.34700e+03, 2.64400e+03, 3.25100e+03, 4.08000e+03,\n",
              "        5.09600e+03, 6.77500e+03, 9.58500e+03, 1.41120e+04, 2.01280e+04,\n",
              "        2.87590e+04, 4.60340e+04, 9.43190e+04, 2.17202e+05, 8.89699e+05]),\n",
              " array([0.00258519, 0.03581714, 0.0690491 , 0.10228106, 0.13551301,\n",
              "        0.16874497, 0.20197693, 0.23520887, 0.26844084, 0.3016728 ,\n",
              "        0.33490473, 0.3681367 , 0.40136865, 0.43460062, 0.46783257,\n",
              "        0.50106454, 0.53429645, 0.5675284 , 0.6007604 , 0.6339923 ,\n",
              "        0.6672243 , 0.70045626, 0.7336882 , 0.76692015, 0.8001521 ,\n",
              "        0.8333841 , 0.866616  , 0.899848  , 0.93307996, 0.9663119 ,\n",
              "        0.99954385], dtype=float32),\n",
              " <a list of 1 Patch objects>)"
            ]
          },
          "metadata": {},
          "execution_count": 17
        },
        {
          "output_type": "display_data",
          "data": {
            "text/plain": [
              "<Figure size 1152x576 with 1 Axes>"
            ],
            "image/png": "[encoded data removed]"
          },
          "metadata": {
            "needs_background": "light"
          }
        }
      ],
      "source": [
        "plot_df1 = pd.DataFrame(newarr1, columns = ['A'])\n",
        "plot_df2 = pd.DataFrame(newarr2, columns = ['A'])\n",
        "plot_df3 = pd.DataFrame(newarr3, columns = ['A'])\n",
        "plot_df4 = pd.DataFrame(newarr4, columns = ['A'])\n",
        "plot_df5 = pd.DataFrame(newarr5, columns = ['A'])\n",
        "\n",
        "x=[0,0.25,0.5,0.75,1]\n",
        "\n",
        "values = ['0', '0.25', '0.50', '0.75','1']\n",
        "#plt.xlabel(\"Star Rating Predictions\")\n",
        "\n",
        "#names = ['1 Star', '2 Star', '3 Star', '4 Star', '5 Star']\n",
        "\n",
        "kwargs = dict(histtype='stepfilled', alpha=0.8, bins=30)\n",
        "\n",
        "plt.figure(figsize=(16, 8))\n",
        "plt.xticks(x,values)\n",
        "plt.hist(newarr1, **kwargs, color = \"red\", ec=\"red\")\n",
        "plt.hist(newarr2, **kwargs, color = \"gold\", ec=\"gold\")\n",
        "plt.hist(newarr3, **kwargs, color = \"green\", ec=\"green\")\n",
        "plt.hist(newarr4, **kwargs, color = \"cyan\", ec=\"cyan\")\n",
        "plt.hist(newarr5, **kwargs, color = \"blue\", ec=\"blue\")\n",
        "\n",
        "#plt.hist([newarr1, newarr2, newarr3, newarr4, newarr5], color=['r','b','g','yellow','magenta'], label=names)\n",
        "#plt.legend(prop={'size': 10}, title = 'Test Labels')"
      ]
    },
    {
      "cell_type": "code",
      "execution_count": null,
      "metadata": {
        "colab": {
          "base_uri": "https://localhost:8080/",
          "height": 497
        },
        "id": "zhMRIhQWKBsb",
        "outputId": "fed57ad6-48be-4cec-d3f9-570338ec88ca"
      },
      "outputs": [
        {
          "output_type": "display_data",
          "data": {
            "text/plain": [
              "<Figure size 1152x576 with 1 Axes>"
            ],
            "image/png": "[encoded data removed]"
          },
          "metadata": {
            "needs_background": "light"
          }
        }
      ],
      "source": [
        "plt.figure(figsize=(16, 8))\n",
        "\n",
        "x=[0,0.25,0.5,0.75,1]\n",
        "values = ['0', '0.25', '0.50', '0.75','1']\n",
        "plt.xticks(x,values)\n",
        "\n",
        "fig = sns.kdeplot(plot_df1['A'], shade=True, alpha=0.8, color=\"red\")\n",
        "fig = sns.kdeplot(plot_df2['A'], shade=True, alpha=0.8, color=\"gold\")\n",
        "fig = sns.kdeplot(plot_df3['A'], shade=True, alpha=0.8, color=\"green\")\n",
        "fig = sns.kdeplot(plot_df4['A'], shade=True, alpha=0.8, color=\"cyan\")\n",
        "fig = sns.kdeplot(plot_df5['A'], shade=True, alpha=0.6, color=\"blue\")\n",
        "plt.show()"
      ]
    }
  ],
  "metadata": {
    "accelerator": "GPU",
    "colab": {
      "collapsed_sections": [],
      "machine_shape": "hm",
      "name": "main_electronics.ipynb",
      "provenance": []
    },
    "kernelspec": {
      "display_name": "Python 3",
      "name": "python3"
    },
    "language_info": {
      "name": "python"
    },
    "widgets": {
      "application/vnd.jupyter.widget-state+json": {
        "003fe7f235cc42e3b5e23d73a86fb576": {
          "model_module": "@jupyter-widgets/base",
          "model_module_version": "1.2.0",
          "model_name": "LayoutModel",
          "state": {
            "_model_module": "@jupyter-widgets/base",
            "_model_module_version": "1.2.0",
            "_model_name": "LayoutModel",
            "_view_count": null,
            "_view_module": "@jupyter-widgets/base",
            "_view_module_version": "1.2.0",
            "_view_name": "LayoutView",
            "align_content": null,
            "align_items": null,
            "align_self": null,
            "border": null,
            "bottom": null,
            "display": null,
            "flex": null,
            "flex_flow": null,
            "grid_area": null,
            "grid_auto_columns": null,
            "grid_auto_flow": null,
            "grid_auto_rows": null,
            "grid_column": null,
            "grid_gap": null,
            "grid_row": null,
            "grid_template_areas": null,
            "grid_template_columns": null,
            "grid_template_rows": null,
            "height": null,
            "justify_content": null,
            "justify_items": null,
            "left": null,
            "margin": null,
            "max_height": null,
            "max_width": null,
            "min_height": null,
            "min_width": null,
            "object_fit": null,
            "object_position": null,
            "order": null,
            "overflow": null,
            "overflow_x": null,
            "overflow_y": null,
            "padding": null,
            "right": null,
            "top": null,
            "visibility": null,
            "width": null
          }
        },
        "01fd2e8cf7a44c5a8f20325c6720c5ce": {
          "model_module": "@jupyter-widgets/controls",
          "model_module_version": "1.5.0",
          "model_name": "HBoxModel",
          "state": {
            "_dom_classes": [],
            "_model_module": "@jupyter-widgets/controls",
            "_model_module_version": "1.5.0",
            "_model_name": "HBoxModel",
            "_view_count": null,
            "_view_module": "@jupyter-widgets/controls",
            "_view_module_version": "1.5.0",
            "_view_name": "HBoxView",
            "box_style": "",
            "children": [
              "IPY_MODEL_fa66f69417504d06b813c16ceed3848c",
              "IPY_MODEL_efd7442b5eea407996811615a93b1045",
              "IPY_MODEL_75c5e3c116ad435bb131ac2795f41483"
            ],
            "layout": "IPY_MODEL_32594b05aab14900a61c0900c9921040"
          }
        },
        "041dc1e0a9864d918bddd4a34012d39a": {
          "model_module": "@jupyter-widgets/base",
          "model_module_version": "1.2.0",
          "model_name": "LayoutModel",
          "state": {
            "_model_module": "@jupyter-widgets/base",
            "_model_module_version": "1.2.0",
            "_model_name": "LayoutModel",
            "_view_count": null,
            "_view_module": "@jupyter-widgets/base",
            "_view_module_version": "1.2.0",
            "_view_name": "LayoutView",
            "align_content": null,
            "align_items": null,
            "align_self": null,
            "border": null,
            "bottom": null,
            "display": null,
            "flex": null,
            "flex_flow": null,
            "grid_area": null,
            "grid_auto_columns": null,
            "grid_auto_flow": null,
            "grid_auto_rows": null,
            "grid_column": null,
            "grid_gap": null,
            "grid_row": null,
            "grid_template_areas": null,
            "grid_template_columns": null,
            "grid_template_rows": null,
            "height": null,
            "justify_content": null,
            "justify_items": null,
            "left": null,
            "margin": null,
            "max_height": null,
            "max_width": null,
            "min_height": null,
            "min_width": null,
            "object_fit": null,
            "object_position": null,
            "order": null,
            "overflow": null,
            "overflow_x": null,
            "overflow_y": null,
            "padding": null,
            "right": null,
            "top": null,
            "visibility": null,
            "width": null
          }
        },
        "0b174607a32942bdafa1e6cb5e0554f7": {
          "model_module": "@jupyter-widgets/controls",
          "model_module_version": "1.5.0",
          "model_name": "ProgressStyleModel",
          "state": {
            "_model_module": "@jupyter-widgets/controls",
            "_model_module_version": "1.5.0",
            "_model_name": "ProgressStyleModel",
            "_view_count": null,
            "_view_module": "@jupyter-widgets/base",
            "_view_module_version": "1.2.0",
            "_view_name": "StyleView",
            "bar_color": null,
            "description_width": ""
          }
        },
        "0d2a4fa86a4f440e94965e2b51b930d4": {
          "model_module": "@jupyter-widgets/controls",
          "model_module_version": "1.5.0",
          "model_name": "HBoxModel",
          "state": {
            "_dom_classes": [],
            "_model_module": "@jupyter-widgets/controls",
            "_model_module_version": "1.5.0",
            "_model_name": "HBoxModel",
            "_view_count": null,
            "_view_module": "@jupyter-widgets/controls",
            "_view_module_version": "1.5.0",
            "_view_name": "HBoxView",
            "box_style": "",
            "children": [
              "IPY_MODEL_6e24a60289bf40b487237441942a00b8",
              "IPY_MODEL_0ff73866d43d4f8da4cc9e9dc6ceca92",
              "IPY_MODEL_872ee0e57c334899850392539386b824"
            ],
            "layout": "IPY_MODEL_581c75125c944838bf8b5ff58fd63e08"
          }
        },
        "0ee47777673f4feb80f89e2791f3f918": {
          "model_module": "@jupyter-widgets/controls",
          "model_module_version": "1.5.0",
          "model_name": "DescriptionStyleModel",
          "state": {
            "_model_module": "@jupyter-widgets/controls",
            "_model_module_version": "1.5.0",
            "_model_name": "DescriptionStyleModel",
            "_view_count": null,
            "_view_module": "@jupyter-widgets/base",
            "_view_module_version": "1.2.0",
            "_view_name": "StyleView",
            "description_width": ""
          }
        },
        "0ff73866d43d4f8da4cc9e9dc6ceca92": {
          "model_module": "@jupyter-widgets/controls",
          "model_module_version": "1.5.0",
          "model_name": "FloatProgressModel",
          "state": {
            "_dom_classes": [],
            "_model_module": "@jupyter-widgets/controls",
            "_model_module_version": "1.5.0",
            "_model_name": "FloatProgressModel",
            "_view_count": null,
            "_view_module": "@jupyter-widgets/controls",
            "_view_module_version": "1.5.0",
            "_view_name": "ProgressView",
            "bar_style": "success",
            "description": "",
            "description_tooltip": null,
            "layout": "IPY_MODEL_c508aea042b2473e96bce9bcb4c4aecb",
            "max": 1,
            "min": 0,
            "orientation": "horizontal",
            "style": "IPY_MODEL_0b174607a32942bdafa1e6cb5e0554f7",
            "value": 1
          }
        },
        "16817a08d736469a852de8c8415407d5": {
          "model_module": "@jupyter-widgets/base",
          "model_module_version": "1.2.0",
          "model_name": "LayoutModel",
          "state": {
            "_model_module": "@jupyter-widgets/base",
            "_model_module_version": "1.2.0",
            "_model_name": "LayoutModel",
            "_view_count": null,
            "_view_module": "@jupyter-widgets/base",
            "_view_module_version": "1.2.0",
            "_view_name": "LayoutView",
            "align_content": null,
            "align_items": null,
            "align_self": null,
            "border": null,
            "bottom": null,
            "display": null,
            "flex": null,
            "flex_flow": null,
            "grid_area": null,
            "grid_auto_columns": null,
            "grid_auto_flow": null,
            "grid_auto_rows": null,
            "grid_column": null,
            "grid_gap": null,
            "grid_row": null,
            "grid_template_areas": null,
            "grid_template_columns": null,
            "grid_template_rows": null,
            "height": null,
            "justify_content": null,
            "justify_items": null,
            "left": null,
            "margin": null,
            "max_height": null,
            "max_width": null,
            "min_height": null,
            "min_width": null,
            "object_fit": null,
            "object_position": null,
            "order": null,
            "overflow": null,
            "overflow_x": null,
            "overflow_y": null,
            "padding": null,
            "right": null,
            "top": null,
            "visibility": null,
            "width": null
          }
        },
        "1d76e0f0a6524edca3c3b3a70bc80f6a": {
          "model_module": "@jupyter-widgets/controls",
          "model_module_version": "1.5.0",
          "model_name": "HTMLModel",
          "state": {
            "_dom_classes": [],
            "_model_module": "@jupyter-widgets/controls",
            "_model_module_version": "1.5.0",
            "_model_name": "HTMLModel",
            "_view_count": null,
            "_view_module": "@jupyter-widgets/controls",
            "_view_module_version": "1.5.0",
            "_view_name": "HTMLView",
            "description": "",
            "description_tooltip": null,
            "layout": "IPY_MODEL_e7591382fb3c457cbc64ea5dd8893119",
            "placeholder": "​",
            "style": "IPY_MODEL_feea8956b90d491b83b7ca70b7921256",
            "value": " 799/799 [01:29&lt;00:00, 16.73 MiB/s]"
          }
        },
        "1f0ee9a1c08c43efac8bee108e77c51f": {
          "model_module": "@jupyter-widgets/controls",
          "model_module_version": "1.5.0",
          "model_name": "DescriptionStyleModel",
          "state": {
            "_model_module": "@jupyter-widgets/controls",
            "_model_module_version": "1.5.0",
            "_model_name": "DescriptionStyleModel",
            "_view_count": null,
            "_view_module": "@jupyter-widgets/base",
            "_view_module_version": "1.2.0",
            "_view_name": "StyleView",
            "description_width": ""
          }
        },
        "1f3f5e43dda24bb8bcd9547b65d46147": {
          "model_module": "@jupyter-widgets/controls",
          "model_module_version": "1.5.0",
          "model_name": "HBoxModel",
          "state": {
            "_dom_classes": [],
            "_model_module": "@jupyter-widgets/controls",
            "_model_module_version": "1.5.0",
            "_model_name": "HBoxModel",
            "_view_count": null,
            "_view_module": "@jupyter-widgets/controls",
            "_view_module_version": "1.5.0",
            "_view_name": "HBoxView",
            "box_style": "",
            "children": [
              "IPY_MODEL_972e93213a1f4e69a22a789af154be58",
              "IPY_MODEL_39c033008f114aa39436b05894a5e03b",
              "IPY_MODEL_c34126abcd74444f8e2f03642df24952"
            ],
            "layout": "IPY_MODEL_d0055241ee4d48a6bc1d883de45034e6"
          }
        },
        "241faddc76ba4f6899c4c488046caeab": {
          "model_module": "@jupyter-widgets/base",
          "model_module_version": "1.2.0",
          "model_name": "LayoutModel",
          "state": {
            "_model_module": "@jupyter-widgets/base",
            "_model_module_version": "1.2.0",
            "_model_name": "LayoutModel",
            "_view_count": null,
            "_view_module": "@jupyter-widgets/base",
            "_view_module_version": "1.2.0",
            "_view_name": "LayoutView",
            "align_content": null,
            "align_items": null,
            "align_self": null,
            "border": null,
            "bottom": null,
            "display": null,
            "flex": null,
            "flex_flow": null,
            "grid_area": null,
            "grid_auto_columns": null,
            "grid_auto_flow": null,
            "grid_auto_rows": null,
            "grid_column": null,
            "grid_gap": null,
            "grid_row": null,
            "grid_template_areas": null,
            "grid_template_columns": null,
            "grid_template_rows": null,
            "height": null,
            "justify_content": null,
            "justify_items": null,
            "left": null,
            "margin": null,
            "max_height": null,
            "max_width": null,
            "min_height": null,
            "min_width": null,
            "object_fit": null,
            "object_position": null,
            "order": null,
            "overflow": null,
            "overflow_x": null,
            "overflow_y": null,
            "padding": null,
            "right": null,
            "top": null,
            "visibility": null,
            "width": "20px"
          }
        },
        "2a4dadfef7b24ad387791fd52d6f0ce2": {
          "model_module": "@jupyter-widgets/controls",
          "model_module_version": "1.5.0",
          "model_name": "DescriptionStyleModel",
          "state": {
            "_model_module": "@jupyter-widgets/controls",
            "_model_module_version": "1.5.0",
            "_model_name": "DescriptionStyleModel",
            "_view_count": null,
            "_view_module": "@jupyter-widgets/base",
            "_view_module_version": "1.2.0",
            "_view_name": "StyleView",
            "description_width": ""
          }
        },
        "30ec45ada3104ceb8e67cad33387b6a8": {
          "model_module": "@jupyter-widgets/controls",
          "model_module_version": "1.5.0",
          "model_name": "ProgressStyleModel",
          "state": {
            "_model_module": "@jupyter-widgets/controls",
            "_model_module_version": "1.5.0",
            "_model_name": "ProgressStyleModel",
            "_view_count": null,
            "_view_module": "@jupyter-widgets/base",
            "_view_module_version": "1.2.0",
            "_view_name": "StyleView",
            "bar_color": null,
            "description_width": ""
          }
        },
        "32594b05aab14900a61c0900c9921040": {
          "model_module": "@jupyter-widgets/base",
          "model_module_version": "1.2.0",
          "model_name": "LayoutModel",
          "state": {
            "_model_module": "@jupyter-widgets/base",
            "_model_module_version": "1.2.0",
            "_model_name": "LayoutModel",
            "_view_count": null,
            "_view_module": "@jupyter-widgets/base",
            "_view_module_version": "1.2.0",
            "_view_name": "LayoutView",
            "align_content": null,
            "align_items": null,
            "align_self": null,
            "border": null,
            "bottom": null,
            "display": null,
            "flex": null,
            "flex_flow": null,
            "grid_area": null,
            "grid_auto_columns": null,
            "grid_auto_flow": null,
            "grid_auto_rows": null,
            "grid_column": null,
            "grid_gap": null,
            "grid_row": null,
            "grid_template_areas": null,
            "grid_template_columns": null,
            "grid_template_rows": null,
            "height": null,
            "justify_content": null,
            "justify_items": null,
            "left": null,
            "margin": null,
            "max_height": null,
            "max_width": null,
            "min_height": null,
            "min_width": null,
            "object_fit": null,
            "object_position": null,
            "order": null,
            "overflow": null,
            "overflow_x": null,
            "overflow_y": null,
            "padding": null,
            "right": null,
            "top": null,
            "visibility": null,
            "width": null
          }
        },
        "398c84c3c1684f9d952a41841709f4e3": {
          "model_module": "@jupyter-widgets/base",
          "model_module_version": "1.2.0",
          "model_name": "LayoutModel",
          "state": {
            "_model_module": "@jupyter-widgets/base",
            "_model_module_version": "1.2.0",
            "_model_name": "LayoutModel",
            "_view_count": null,
            "_view_module": "@jupyter-widgets/base",
            "_view_module_version": "1.2.0",
            "_view_name": "LayoutView",
            "align_content": null,
            "align_items": null,
            "align_self": null,
            "border": null,
            "bottom": null,
            "display": null,
            "flex": null,
            "flex_flow": null,
            "grid_area": null,
            "grid_auto_columns": null,
            "grid_auto_flow": null,
            "grid_auto_rows": null,
            "grid_column": null,
            "grid_gap": null,
            "grid_row": null,
            "grid_template_areas": null,
            "grid_template_columns": null,
            "grid_template_rows": null,
            "height": null,
            "justify_content": null,
            "justify_items": null,
            "left": null,
            "margin": null,
            "max_height": null,
            "max_width": null,
            "min_height": null,
            "min_width": null,
            "object_fit": null,
            "object_position": null,
            "order": null,
            "overflow": null,
            "overflow_x": null,
            "overflow_y": null,
            "padding": null,
            "right": null,
            "top": null,
            "visibility": null,
            "width": null
          }
        },
        "39c033008f114aa39436b05894a5e03b": {
          "model_module": "@jupyter-widgets/controls",
          "model_module_version": "1.5.0",
          "model_name": "FloatProgressModel",
          "state": {
            "_dom_classes": [],
            "_model_module": "@jupyter-widgets/controls",
            "_model_module_version": "1.5.0",
            "_model_name": "FloatProgressModel",
            "_view_count": null,
            "_view_module": "@jupyter-widgets/controls",
            "_view_module_version": "1.5.0",
            "_view_name": "ProgressView",
            "bar_style": "success",
            "description": "",
            "description_tooltip": null,
            "layout": "IPY_MODEL_f071d2a2ea544523a0fb4b8129b2611d",
            "max": 1,
            "min": 0,
            "orientation": "horizontal",
            "style": "IPY_MODEL_d861d61ca97b48e9b97782c0e7160863",
            "value": 1
          }
        },
        "3b7b8755c9de4905bd04b2eaf8b0adf5": {
          "model_module": "@jupyter-widgets/base",
          "model_module_version": "1.2.0",
          "model_name": "LayoutModel",
          "state": {
            "_model_module": "@jupyter-widgets/base",
            "_model_module_version": "1.2.0",
            "_model_name": "LayoutModel",
            "_view_count": null,
            "_view_module": "@jupyter-widgets/base",
            "_view_module_version": "1.2.0",
            "_view_name": "LayoutView",
            "align_content": null,
            "align_items": null,
            "align_self": null,
            "border": null,
            "bottom": null,
            "display": null,
            "flex": null,
            "flex_flow": null,
            "grid_area": null,
            "grid_auto_columns": null,
            "grid_auto_flow": null,
            "grid_auto_rows": null,
            "grid_column": null,
            "grid_gap": null,
            "grid_row": null,
            "grid_template_areas": null,
            "grid_template_columns": null,
            "grid_template_rows": null,
            "height": null,
            "justify_content": null,
            "justify_items": null,
            "left": null,
            "margin": null,
            "max_height": null,
            "max_width": null,
            "min_height": null,
            "min_width": null,
            "object_fit": null,
            "object_position": null,
            "order": null,
            "overflow": null,
            "overflow_x": null,
            "overflow_y": null,
            "padding": null,
            "right": null,
            "top": null,
            "visibility": null,
            "width": null
          }
        },
        "4023551d994643db8437e09130e0d6fd": {
          "model_module": "@jupyter-widgets/base",
          "model_module_version": "1.2.0",
          "model_name": "LayoutModel",
          "state": {
            "_model_module": "@jupyter-widgets/base",
            "_model_module_version": "1.2.0",
            "_model_name": "LayoutModel",
            "_view_count": null,
            "_view_module": "@jupyter-widgets/base",
            "_view_module_version": "1.2.0",
            "_view_name": "LayoutView",
            "align_content": null,
            "align_items": null,
            "align_self": null,
            "border": null,
            "bottom": null,
            "display": null,
            "flex": null,
            "flex_flow": null,
            "grid_area": null,
            "grid_auto_columns": null,
            "grid_auto_flow": null,
            "grid_auto_rows": null,
            "grid_column": null,
            "grid_gap": null,
            "grid_row": null,
            "grid_template_areas": null,
            "grid_template_columns": null,
            "grid_template_rows": null,
            "height": null,
            "justify_content": null,
            "justify_items": null,
            "left": null,
            "margin": null,
            "max_height": null,
            "max_width": null,
            "min_height": null,
            "min_width": null,
            "object_fit": null,
            "object_position": null,
            "order": null,
            "overflow": null,
            "overflow_x": null,
            "overflow_y": null,
            "padding": null,
            "right": null,
            "top": null,
            "visibility": null,
            "width": null
          }
        },
        "4b4d5e9babb344a6acb6364a1f877154": {
          "model_module": "@jupyter-widgets/controls",
          "model_module_version": "1.5.0",
          "model_name": "DescriptionStyleModel",
          "state": {
            "_model_module": "@jupyter-widgets/controls",
            "_model_module_version": "1.5.0",
            "_model_name": "DescriptionStyleModel",
            "_view_count": null,
            "_view_module": "@jupyter-widgets/base",
            "_view_module_version": "1.2.0",
            "_view_name": "StyleView",
            "description_width": ""
          }
        },
        "5226e1a2f6fd4726beea2a2c8c8abd1a": {
          "model_module": "@jupyter-widgets/controls",
          "model_module_version": "1.5.0",
          "model_name": "HBoxModel",
          "state": {
            "_dom_classes": [],
            "_model_module": "@jupyter-widgets/controls",
            "_model_module_version": "1.5.0",
            "_model_name": "HBoxModel",
            "_view_count": null,
            "_view_module": "@jupyter-widgets/controls",
            "_view_module_version": "1.5.0",
            "_view_name": "HBoxView",
            "box_style": "",
            "children": [
              "IPY_MODEL_7d8d8f66395d4d48aae261da87a6b948",
              "IPY_MODEL_cf64471300c44d6ea49796f0589cd11f",
              "IPY_MODEL_1d76e0f0a6524edca3c3b3a70bc80f6a"
            ],
            "layout": "IPY_MODEL_4023551d994643db8437e09130e0d6fd"
          }
        },
        "53633914e00c46f0bb67b6a4b15bfcab": {
          "model_module": "@jupyter-widgets/controls",
          "model_module_version": "1.5.0",
          "model_name": "DescriptionStyleModel",
          "state": {
            "_model_module": "@jupyter-widgets/controls",
            "_model_module_version": "1.5.0",
            "_model_name": "DescriptionStyleModel",
            "_view_count": null,
            "_view_module": "@jupyter-widgets/base",
            "_view_module_version": "1.2.0",
            "_view_name": "StyleView",
            "description_width": ""
          }
        },
        "581c75125c944838bf8b5ff58fd63e08": {
          "model_module": "@jupyter-widgets/base",
          "model_module_version": "1.2.0",
          "model_name": "LayoutModel",
          "state": {
            "_model_module": "@jupyter-widgets/base",
            "_model_module_version": "1.2.0",
            "_model_name": "LayoutModel",
            "_view_count": null,
            "_view_module": "@jupyter-widgets/base",
            "_view_module_version": "1.2.0",
            "_view_name": "LayoutView",
            "align_content": null,
            "align_items": null,
            "align_self": null,
            "border": null,
            "bottom": null,
            "display": null,
            "flex": null,
            "flex_flow": null,
            "grid_area": null,
            "grid_auto_columns": null,
            "grid_auto_flow": null,
            "grid_auto_rows": null,
            "grid_column": null,
            "grid_gap": null,
            "grid_row": null,
            "grid_template_areas": null,
            "grid_template_columns": null,
            "grid_template_rows": null,
            "height": null,
            "justify_content": null,
            "justify_items": null,
            "left": null,
            "margin": null,
            "max_height": null,
            "max_width": null,
            "min_height": null,
            "min_width": null,
            "object_fit": null,
            "object_position": null,
            "order": null,
            "overflow": null,
            "overflow_x": null,
            "overflow_y": null,
            "padding": null,
            "right": null,
            "top": null,
            "visibility": null,
            "width": null
          }
        },
        "625db03afa8e4a60b1b5e6c84b856fab": {
          "model_module": "@jupyter-widgets/controls",
          "model_module_version": "1.5.0",
          "model_name": "HTMLModel",
          "state": {
            "_dom_classes": [],
            "_model_module": "@jupyter-widgets/controls",
            "_model_module_version": "1.5.0",
            "_model_name": "HTMLModel",
            "_view_count": null,
            "_view_module": "@jupyter-widgets/controls",
            "_view_module_version": "1.5.0",
            "_view_name": "HTMLView",
            "description": "",
            "description_tooltip": null,
            "layout": "IPY_MODEL_398c84c3c1684f9d952a41841709f4e3",
            "placeholder": "​",
            "style": "IPY_MODEL_1f0ee9a1c08c43efac8bee108e77c51f",
            "value": ""
          }
        },
        "6e24a60289bf40b487237441942a00b8": {
          "model_module": "@jupyter-widgets/controls",
          "model_module_version": "1.5.0",
          "model_name": "HTMLModel",
          "state": {
            "_dom_classes": [],
            "_model_module": "@jupyter-widgets/controls",
            "_model_module_version": "1.5.0",
            "_model_name": "HTMLModel",
            "_view_count": null,
            "_view_module": "@jupyter-widgets/controls",
            "_view_module_version": "1.5.0",
            "_view_name": "HTMLView",
            "description": "",
            "description_tooltip": null,
            "layout": "IPY_MODEL_003fe7f235cc42e3b5e23d73a86fb576",
            "placeholder": "​",
            "style": "IPY_MODEL_2a4dadfef7b24ad387791fd52d6f0ce2",
            "value": "Dl Completed...: 100%"
          }
        },
        "7111bd07d04242ebae4e768cf958b995": {
          "model_module": "@jupyter-widgets/controls",
          "model_module_version": "1.5.0",
          "model_name": "HBoxModel",
          "state": {
            "_dom_classes": [],
            "_model_module": "@jupyter-widgets/controls",
            "_model_module_version": "1.5.0",
            "_model_name": "HBoxModel",
            "_view_count": null,
            "_view_module": "@jupyter-widgets/controls",
            "_view_module_version": "1.5.0",
            "_view_name": "HBoxView",
            "box_style": "",
            "children": [
              "IPY_MODEL_625db03afa8e4a60b1b5e6c84b856fab",
              "IPY_MODEL_d00ff4f07a984598a347216433cf5e0a",
              "IPY_MODEL_f981c612f051430099414a7a6694e756"
            ],
            "layout": "IPY_MODEL_b9583e68d654479ebf5787363e83fe6c"
          }
        },
        "75c5e3c116ad435bb131ac2795f41483": {
          "model_module": "@jupyter-widgets/controls",
          "model_module_version": "1.5.0",
          "model_name": "HTMLModel",
          "state": {
            "_dom_classes": [],
            "_model_module": "@jupyter-widgets/controls",
            "_model_module_version": "1.5.0",
            "_model_name": "HTMLModel",
            "_view_count": null,
            "_view_module": "@jupyter-widgets/controls",
            "_view_module_version": "1.5.0",
            "_view_name": "HTMLView",
            "description": "",
            "description_tooltip": null,
            "layout": "IPY_MODEL_8749c43944294fa89750096ad0bd3b74",
            "placeholder": "​",
            "style": "IPY_MODEL_d6220caa26e64f19bf27db7889ad9118",
            "value": " 4864248/4864249 [01:40&lt;00:00, 51136.04 examples/s]"
          }
        },
        "7d8d8f66395d4d48aae261da87a6b948": {
          "model_module": "@jupyter-widgets/controls",
          "model_module_version": "1.5.0",
          "model_name": "HTMLModel",
          "state": {
            "_dom_classes": [],
            "_model_module": "@jupyter-widgets/controls",
            "_model_module_version": "1.5.0",
            "_model_name": "HTMLModel",
            "_view_count": null,
            "_view_module": "@jupyter-widgets/controls",
            "_view_module_version": "1.5.0",
            "_view_name": "HTMLView",
            "description": "",
            "description_tooltip": null,
            "layout": "IPY_MODEL_16817a08d736469a852de8c8415407d5",
            "placeholder": "​",
            "style": "IPY_MODEL_53633914e00c46f0bb67b6a4b15bfcab",
            "value": "Dl Size...: 100%"
          }
        },
        "801d09b24eb14f9f8d99a57b8cc47c76": {
          "model_module": "@jupyter-widgets/base",
          "model_module_version": "1.2.0",
          "model_name": "LayoutModel",
          "state": {
            "_model_module": "@jupyter-widgets/base",
            "_model_module_version": "1.2.0",
            "_model_name": "LayoutModel",
            "_view_count": null,
            "_view_module": "@jupyter-widgets/base",
            "_view_module_version": "1.2.0",
            "_view_name": "LayoutView",
            "align_content": null,
            "align_items": null,
            "align_self": null,
            "border": null,
            "bottom": null,
            "display": null,
            "flex": null,
            "flex_flow": null,
            "grid_area": null,
            "grid_auto_columns": null,
            "grid_auto_flow": null,
            "grid_auto_rows": null,
            "grid_column": null,
            "grid_gap": null,
            "grid_row": null,
            "grid_template_areas": null,
            "grid_template_columns": null,
            "grid_template_rows": null,
            "height": null,
            "justify_content": null,
            "justify_items": null,
            "left": null,
            "margin": null,
            "max_height": null,
            "max_width": null,
            "min_height": null,
            "min_width": null,
            "object_fit": null,
            "object_position": null,
            "order": null,
            "overflow": null,
            "overflow_x": null,
            "overflow_y": null,
            "padding": null,
            "right": null,
            "top": null,
            "visibility": null,
            "width": null
          }
        },
        "86e543ae6e9a4f3e8794b4b50da9be42": {
          "model_module": "@jupyter-widgets/controls",
          "model_module_version": "1.5.0",
          "model_name": "ProgressStyleModel",
          "state": {
            "_model_module": "@jupyter-widgets/controls",
            "_model_module_version": "1.5.0",
            "_model_name": "ProgressStyleModel",
            "_view_count": null,
            "_view_module": "@jupyter-widgets/base",
            "_view_module_version": "1.2.0",
            "_view_name": "StyleView",
            "bar_color": null,
            "description_width": ""
          }
        },
        "872ee0e57c334899850392539386b824": {
          "model_module": "@jupyter-widgets/controls",
          "model_module_version": "1.5.0",
          "model_name": "HTMLModel",
          "state": {
            "_dom_classes": [],
            "_model_module": "@jupyter-widgets/controls",
            "_model_module_version": "1.5.0",
            "_model_name": "HTMLModel",
            "_view_count": null,
            "_view_module": "@jupyter-widgets/controls",
            "_view_module_version": "1.5.0",
            "_view_name": "HTMLView",
            "description": "",
            "description_tooltip": null,
            "layout": "IPY_MODEL_801d09b24eb14f9f8d99a57b8cc47c76",
            "placeholder": "​",
            "style": "IPY_MODEL_4b4d5e9babb344a6acb6364a1f877154",
            "value": " 1/1 [01:29&lt;00:00, 53.01s/ url]"
          }
        },
        "8749c43944294fa89750096ad0bd3b74": {
          "model_module": "@jupyter-widgets/base",
          "model_module_version": "1.2.0",
          "model_name": "LayoutModel",
          "state": {
            "_model_module": "@jupyter-widgets/base",
            "_model_module_version": "1.2.0",
            "_model_name": "LayoutModel",
            "_view_count": null,
            "_view_module": "@jupyter-widgets/base",
            "_view_module_version": "1.2.0",
            "_view_name": "LayoutView",
            "align_content": null,
            "align_items": null,
            "align_self": null,
            "border": null,
            "bottom": null,
            "display": null,
            "flex": null,
            "flex_flow": null,
            "grid_area": null,
            "grid_auto_columns": null,
            "grid_auto_flow": null,
            "grid_auto_rows": null,
            "grid_column": null,
            "grid_gap": null,
            "grid_row": null,
            "grid_template_areas": null,
            "grid_template_columns": null,
            "grid_template_rows": null,
            "height": null,
            "justify_content": null,
            "justify_items": null,
            "left": null,
            "margin": null,
            "max_height": null,
            "max_width": null,
            "min_height": null,
            "min_width": null,
            "object_fit": null,
            "object_position": null,
            "order": null,
            "overflow": null,
            "overflow_x": null,
            "overflow_y": null,
            "padding": null,
            "right": null,
            "top": null,
            "visibility": null,
            "width": null
          }
        },
        "95065dc3ece54720af2da8583a1c210a": {
          "model_module": "@jupyter-widgets/base",
          "model_module_version": "1.2.0",
          "model_name": "LayoutModel",
          "state": {
            "_model_module": "@jupyter-widgets/base",
            "_model_module_version": "1.2.0",
            "_model_name": "LayoutModel",
            "_view_count": null,
            "_view_module": "@jupyter-widgets/base",
            "_view_module_version": "1.2.0",
            "_view_name": "LayoutView",
            "align_content": null,
            "align_items": null,
            "align_self": null,
            "border": null,
            "bottom": null,
            "display": null,
            "flex": null,
            "flex_flow": null,
            "grid_area": null,
            "grid_auto_columns": null,
            "grid_auto_flow": null,
            "grid_auto_rows": null,
            "grid_column": null,
            "grid_gap": null,
            "grid_row": null,
            "grid_template_areas": null,
            "grid_template_columns": null,
            "grid_template_rows": null,
            "height": null,
            "justify_content": null,
            "justify_items": null,
            "left": null,
            "margin": null,
            "max_height": null,
            "max_width": null,
            "min_height": null,
            "min_width": null,
            "object_fit": null,
            "object_position": null,
            "order": null,
            "overflow": null,
            "overflow_x": null,
            "overflow_y": null,
            "padding": null,
            "right": null,
            "top": null,
            "visibility": null,
            "width": null
          }
        },
        "95cf7a6e90614c54985baacee0773854": {
          "model_module": "@jupyter-widgets/controls",
          "model_module_version": "1.5.0",
          "model_name": "DescriptionStyleModel",
          "state": {
            "_model_module": "@jupyter-widgets/controls",
            "_model_module_version": "1.5.0",
            "_model_name": "DescriptionStyleModel",
            "_view_count": null,
            "_view_module": "@jupyter-widgets/base",
            "_view_module_version": "1.2.0",
            "_view_name": "StyleView",
            "description_width": ""
          }
        },
        "972e93213a1f4e69a22a789af154be58": {
          "model_module": "@jupyter-widgets/controls",
          "model_module_version": "1.5.0",
          "model_name": "HTMLModel",
          "state": {
            "_dom_classes": [],
            "_model_module": "@jupyter-widgets/controls",
            "_model_module_version": "1.5.0",
            "_model_name": "HTMLModel",
            "_view_count": null,
            "_view_module": "@jupyter-widgets/controls",
            "_view_module_version": "1.5.0",
            "_view_name": "HTMLView",
            "description": "",
            "description_tooltip": null,
            "layout": "IPY_MODEL_041dc1e0a9864d918bddd4a34012d39a",
            "placeholder": "​",
            "style": "IPY_MODEL_0ee47777673f4feb80f89e2791f3f918",
            "value": "Extraction completed...: 100%"
          }
        },
        "b9583e68d654479ebf5787363e83fe6c": {
          "model_module": "@jupyter-widgets/base",
          "model_module_version": "1.2.0",
          "model_name": "LayoutModel",
          "state": {
            "_model_module": "@jupyter-widgets/base",
            "_model_module_version": "1.2.0",
            "_model_name": "LayoutModel",
            "_view_count": null,
            "_view_module": "@jupyter-widgets/base",
            "_view_module_version": "1.2.0",
            "_view_name": "LayoutView",
            "align_content": null,
            "align_items": null,
            "align_self": null,
            "border": null,
            "bottom": null,
            "display": null,
            "flex": null,
            "flex_flow": null,
            "grid_area": null,
            "grid_auto_columns": null,
            "grid_auto_flow": null,
            "grid_auto_rows": null,
            "grid_column": null,
            "grid_gap": null,
            "grid_row": null,
            "grid_template_areas": null,
            "grid_template_columns": null,
            "grid_template_rows": null,
            "height": null,
            "justify_content": null,
            "justify_items": null,
            "left": null,
            "margin": null,
            "max_height": null,
            "max_width": null,
            "min_height": null,
            "min_width": null,
            "object_fit": null,
            "object_position": null,
            "order": null,
            "overflow": null,
            "overflow_x": null,
            "overflow_y": null,
            "padding": null,
            "right": null,
            "top": null,
            "visibility": null,
            "width": null
          }
        },
        "bdff9a739a204a248c352a2085ccf397": {
          "model_module": "@jupyter-widgets/base",
          "model_module_version": "1.2.0",
          "model_name": "LayoutModel",
          "state": {
            "_model_module": "@jupyter-widgets/base",
            "_model_module_version": "1.2.0",
            "_model_name": "LayoutModel",
            "_view_count": null,
            "_view_module": "@jupyter-widgets/base",
            "_view_module_version": "1.2.0",
            "_view_name": "LayoutView",
            "align_content": null,
            "align_items": null,
            "align_self": null,
            "border": null,
            "bottom": null,
            "display": null,
            "flex": null,
            "flex_flow": null,
            "grid_area": null,
            "grid_auto_columns": null,
            "grid_auto_flow": null,
            "grid_auto_rows": null,
            "grid_column": null,
            "grid_gap": null,
            "grid_row": null,
            "grid_template_areas": null,
            "grid_template_columns": null,
            "grid_template_rows": null,
            "height": null,
            "justify_content": null,
            "justify_items": null,
            "left": null,
            "margin": null,
            "max_height": null,
            "max_width": null,
            "min_height": null,
            "min_width": null,
            "object_fit": null,
            "object_position": null,
            "order": null,
            "overflow": null,
            "overflow_x": null,
            "overflow_y": null,
            "padding": null,
            "right": null,
            "top": null,
            "visibility": null,
            "width": null
          }
        },
        "c34126abcd74444f8e2f03642df24952": {
          "model_module": "@jupyter-widgets/controls",
          "model_module_version": "1.5.0",
          "model_name": "HTMLModel",
          "state": {
            "_dom_classes": [],
            "_model_module": "@jupyter-widgets/controls",
            "_model_module_version": "1.5.0",
            "_model_name": "HTMLModel",
            "_view_count": null,
            "_view_module": "@jupyter-widgets/controls",
            "_view_module_version": "1.5.0",
            "_view_name": "HTMLView",
            "description": "",
            "description_tooltip": null,
            "layout": "IPY_MODEL_bdff9a739a204a248c352a2085ccf397",
            "placeholder": "​",
            "style": "IPY_MODEL_95cf7a6e90614c54985baacee0773854",
            "value": " 1/1 [01:29&lt;00:00, 89.43s/ file]"
          }
        },
        "c508aea042b2473e96bce9bcb4c4aecb": {
          "model_module": "@jupyter-widgets/base",
          "model_module_version": "1.2.0",
          "model_name": "LayoutModel",
          "state": {
            "_model_module": "@jupyter-widgets/base",
            "_model_module_version": "1.2.0",
            "_model_name": "LayoutModel",
            "_view_count": null,
            "_view_module": "@jupyter-widgets/base",
            "_view_module_version": "1.2.0",
            "_view_name": "LayoutView",
            "align_content": null,
            "align_items": null,
            "align_self": null,
            "border": null,
            "bottom": null,
            "display": null,
            "flex": null,
            "flex_flow": null,
            "grid_area": null,
            "grid_auto_columns": null,
            "grid_auto_flow": null,
            "grid_auto_rows": null,
            "grid_column": null,
            "grid_gap": null,
            "grid_row": null,
            "grid_template_areas": null,
            "grid_template_columns": null,
            "grid_template_rows": null,
            "height": null,
            "justify_content": null,
            "justify_items": null,
            "left": null,
            "margin": null,
            "max_height": null,
            "max_width": null,
            "min_height": null,
            "min_width": null,
            "object_fit": null,
            "object_position": null,
            "order": null,
            "overflow": null,
            "overflow_x": null,
            "overflow_y": null,
            "padding": null,
            "right": null,
            "top": null,
            "visibility": null,
            "width": "20px"
          }
        },
        "cb352f7cc49a4042badc95a6794133cd": {
          "model_module": "@jupyter-widgets/controls",
          "model_module_version": "1.5.0",
          "model_name": "ProgressStyleModel",
          "state": {
            "_model_module": "@jupyter-widgets/controls",
            "_model_module_version": "1.5.0",
            "_model_name": "ProgressStyleModel",
            "_view_count": null,
            "_view_module": "@jupyter-widgets/base",
            "_view_module_version": "1.2.0",
            "_view_name": "StyleView",
            "bar_color": null,
            "description_width": ""
          }
        },
        "cf64471300c44d6ea49796f0589cd11f": {
          "model_module": "@jupyter-widgets/controls",
          "model_module_version": "1.5.0",
          "model_name": "FloatProgressModel",
          "state": {
            "_dom_classes": [],
            "_model_module": "@jupyter-widgets/controls",
            "_model_module_version": "1.5.0",
            "_model_name": "FloatProgressModel",
            "_view_count": null,
            "_view_module": "@jupyter-widgets/controls",
            "_view_module_version": "1.5.0",
            "_view_name": "ProgressView",
            "bar_style": "success",
            "description": "",
            "description_tooltip": null,
            "layout": "IPY_MODEL_f9dd3649085e4479981a6d0eb31748a9",
            "max": 1,
            "min": 0,
            "orientation": "horizontal",
            "style": "IPY_MODEL_cb352f7cc49a4042badc95a6794133cd",
            "value": 1
          }
        },
        "d0055241ee4d48a6bc1d883de45034e6": {
          "model_module": "@jupyter-widgets/base",
          "model_module_version": "1.2.0",
          "model_name": "LayoutModel",
          "state": {
            "_model_module": "@jupyter-widgets/base",
            "_model_module_version": "1.2.0",
            "_model_name": "LayoutModel",
            "_view_count": null,
            "_view_module": "@jupyter-widgets/base",
            "_view_module_version": "1.2.0",
            "_view_name": "LayoutView",
            "align_content": null,
            "align_items": null,
            "align_self": null,
            "border": null,
            "bottom": null,
            "display": null,
            "flex": null,
            "flex_flow": null,
            "grid_area": null,
            "grid_auto_columns": null,
            "grid_auto_flow": null,
            "grid_auto_rows": null,
            "grid_column": null,
            "grid_gap": null,
            "grid_row": null,
            "grid_template_areas": null,
            "grid_template_columns": null,
            "grid_template_rows": null,
            "height": null,
            "justify_content": null,
            "justify_items": null,
            "left": null,
            "margin": null,
            "max_height": null,
            "max_width": null,
            "min_height": null,
            "min_width": null,
            "object_fit": null,
            "object_position": null,
            "order": null,
            "overflow": null,
            "overflow_x": null,
            "overflow_y": null,
            "padding": null,
            "right": null,
            "top": null,
            "visibility": null,
            "width": null
          }
        },
        "d00ff4f07a984598a347216433cf5e0a": {
          "model_module": "@jupyter-widgets/controls",
          "model_module_version": "1.5.0",
          "model_name": "FloatProgressModel",
          "state": {
            "_dom_classes": [],
            "_model_module": "@jupyter-widgets/controls",
            "_model_module_version": "1.5.0",
            "_model_name": "FloatProgressModel",
            "_view_count": null,
            "_view_module": "@jupyter-widgets/controls",
            "_view_module_version": "1.5.0",
            "_view_name": "ProgressView",
            "bar_style": "info",
            "description": "",
            "description_tooltip": null,
            "layout": "IPY_MODEL_241faddc76ba4f6899c4c488046caeab",
            "max": 1,
            "min": 0,
            "orientation": "horizontal",
            "style": "IPY_MODEL_30ec45ada3104ceb8e67cad33387b6a8",
            "value": 1
          }
        },
        "d6220caa26e64f19bf27db7889ad9118": {
          "model_module": "@jupyter-widgets/controls",
          "model_module_version": "1.5.0",
          "model_name": "DescriptionStyleModel",
          "state": {
            "_model_module": "@jupyter-widgets/controls",
            "_model_module_version": "1.5.0",
            "_model_name": "DescriptionStyleModel",
            "_view_count": null,
            "_view_module": "@jupyter-widgets/base",
            "_view_module_version": "1.2.0",
            "_view_name": "StyleView",
            "description_width": ""
          }
        },
        "d861d61ca97b48e9b97782c0e7160863": {
          "model_module": "@jupyter-widgets/controls",
          "model_module_version": "1.5.0",
          "model_name": "ProgressStyleModel",
          "state": {
            "_model_module": "@jupyter-widgets/controls",
            "_model_module_version": "1.5.0",
            "_model_name": "ProgressStyleModel",
            "_view_count": null,
            "_view_module": "@jupyter-widgets/base",
            "_view_module_version": "1.2.0",
            "_view_name": "StyleView",
            "bar_color": null,
            "description_width": ""
          }
        },
        "da75e775bc684bb6bd37539a04179f0c": {
          "model_module": "@jupyter-widgets/controls",
          "model_module_version": "1.5.0",
          "model_name": "DescriptionStyleModel",
          "state": {
            "_model_module": "@jupyter-widgets/controls",
            "_model_module_version": "1.5.0",
            "_model_name": "DescriptionStyleModel",
            "_view_count": null,
            "_view_module": "@jupyter-widgets/base",
            "_view_module_version": "1.2.0",
            "_view_name": "StyleView",
            "description_width": ""
          }
        },
        "e7591382fb3c457cbc64ea5dd8893119": {
          "model_module": "@jupyter-widgets/base",
          "model_module_version": "1.2.0",
          "model_name": "LayoutModel",
          "state": {
            "_model_module": "@jupyter-widgets/base",
            "_model_module_version": "1.2.0",
            "_model_name": "LayoutModel",
            "_view_count": null,
            "_view_module": "@jupyter-widgets/base",
            "_view_module_version": "1.2.0",
            "_view_name": "LayoutView",
            "align_content": null,
            "align_items": null,
            "align_self": null,
            "border": null,
            "bottom": null,
            "display": null,
            "flex": null,
            "flex_flow": null,
            "grid_area": null,
            "grid_auto_columns": null,
            "grid_auto_flow": null,
            "grid_auto_rows": null,
            "grid_column": null,
            "grid_gap": null,
            "grid_row": null,
            "grid_template_areas": null,
            "grid_template_columns": null,
            "grid_template_rows": null,
            "height": null,
            "justify_content": null,
            "justify_items": null,
            "left": null,
            "margin": null,
            "max_height": null,
            "max_width": null,
            "min_height": null,
            "min_width": null,
            "object_fit": null,
            "object_position": null,
            "order": null,
            "overflow": null,
            "overflow_x": null,
            "overflow_y": null,
            "padding": null,
            "right": null,
            "top": null,
            "visibility": null,
            "width": null
          }
        },
        "eac2a60935224289aa35c24f9d382641": {
          "model_module": "@jupyter-widgets/controls",
          "model_module_version": "1.5.0",
          "model_name": "DescriptionStyleModel",
          "state": {
            "_model_module": "@jupyter-widgets/controls",
            "_model_module_version": "1.5.0",
            "_model_name": "DescriptionStyleModel",
            "_view_count": null,
            "_view_module": "@jupyter-widgets/base",
            "_view_module_version": "1.2.0",
            "_view_name": "StyleView",
            "description_width": ""
          }
        },
        "efd7442b5eea407996811615a93b1045": {
          "model_module": "@jupyter-widgets/controls",
          "model_module_version": "1.5.0",
          "model_name": "FloatProgressModel",
          "state": {
            "_dom_classes": [],
            "_model_module": "@jupyter-widgets/controls",
            "_model_module_version": "1.5.0",
            "_model_name": "FloatProgressModel",
            "_view_count": null,
            "_view_module": "@jupyter-widgets/controls",
            "_view_module_version": "1.5.0",
            "_view_name": "ProgressView",
            "bar_style": "danger",
            "description": "",
            "description_tooltip": null,
            "layout": "IPY_MODEL_95065dc3ece54720af2da8583a1c210a",
            "max": 4864249,
            "min": 0,
            "orientation": "horizontal",
            "style": "IPY_MODEL_86e543ae6e9a4f3e8794b4b50da9be42",
            "value": 4864248
          }
        },
        "f071d2a2ea544523a0fb4b8129b2611d": {
          "model_module": "@jupyter-widgets/base",
          "model_module_version": "1.2.0",
          "model_name": "LayoutModel",
          "state": {
            "_model_module": "@jupyter-widgets/base",
            "_model_module_version": "1.2.0",
            "_model_name": "LayoutModel",
            "_view_count": null,
            "_view_module": "@jupyter-widgets/base",
            "_view_module_version": "1.2.0",
            "_view_name": "LayoutView",
            "align_content": null,
            "align_items": null,
            "align_self": null,
            "border": null,
            "bottom": null,
            "display": null,
            "flex": null,
            "flex_flow": null,
            "grid_area": null,
            "grid_auto_columns": null,
            "grid_auto_flow": null,
            "grid_auto_rows": null,
            "grid_column": null,
            "grid_gap": null,
            "grid_row": null,
            "grid_template_areas": null,
            "grid_template_columns": null,
            "grid_template_rows": null,
            "height": null,
            "justify_content": null,
            "justify_items": null,
            "left": null,
            "margin": null,
            "max_height": null,
            "max_width": null,
            "min_height": null,
            "min_width": null,
            "object_fit": null,
            "object_position": null,
            "order": null,
            "overflow": null,
            "overflow_x": null,
            "overflow_y": null,
            "padding": null,
            "right": null,
            "top": null,
            "visibility": null,
            "width": "20px"
          }
        },
        "f981c612f051430099414a7a6694e756": {
          "model_module": "@jupyter-widgets/controls",
          "model_module_version": "1.5.0",
          "model_name": "HTMLModel",
          "state": {
            "_dom_classes": [],
            "_model_module": "@jupyter-widgets/controls",
            "_model_module_version": "1.5.0",
            "_model_name": "HTMLModel",
            "_view_count": null,
            "_view_module": "@jupyter-widgets/controls",
            "_view_module_version": "1.5.0",
            "_view_name": "HTMLView",
            "description": "",
            "description_tooltip": null,
            "layout": "IPY_MODEL_ff924ba7151c4126bd1865c1a0aaa5b1",
            "placeholder": "​",
            "style": "IPY_MODEL_da75e775bc684bb6bd37539a04179f0c",
            "value": " 4864168/0 [1:05:13&lt;00:00, 1300.63 examples/s]"
          }
        },
        "f9dd3649085e4479981a6d0eb31748a9": {
          "model_module": "@jupyter-widgets/base",
          "model_module_version": "1.2.0",
          "model_name": "LayoutModel",
          "state": {
            "_model_module": "@jupyter-widgets/base",
            "_model_module_version": "1.2.0",
            "_model_name": "LayoutModel",
            "_view_count": null,
            "_view_module": "@jupyter-widgets/base",
            "_view_module_version": "1.2.0",
            "_view_name": "LayoutView",
            "align_content": null,
            "align_items": null,
            "align_self": null,
            "border": null,
            "bottom": null,
            "display": null,
            "flex": null,
            "flex_flow": null,
            "grid_area": null,
            "grid_auto_columns": null,
            "grid_auto_flow": null,
            "grid_auto_rows": null,
            "grid_column": null,
            "grid_gap": null,
            "grid_row": null,
            "grid_template_areas": null,
            "grid_template_columns": null,
            "grid_template_rows": null,
            "height": null,
            "justify_content": null,
            "justify_items": null,
            "left": null,
            "margin": null,
            "max_height": null,
            "max_width": null,
            "min_height": null,
            "min_width": null,
            "object_fit": null,
            "object_position": null,
            "order": null,
            "overflow": null,
            "overflow_x": null,
            "overflow_y": null,
            "padding": null,
            "right": null,
            "top": null,
            "visibility": null,
            "width": "20px"
          }
        },
        "fa66f69417504d06b813c16ceed3848c": {
          "model_module": "@jupyter-widgets/controls",
          "model_module_version": "1.5.0",
          "model_name": "HTMLModel",
          "state": {
            "_dom_classes": [],
            "_model_module": "@jupyter-widgets/controls",
            "_model_module_version": "1.5.0",
            "_model_name": "HTMLModel",
            "_view_count": null,
            "_view_module": "@jupyter-widgets/controls",
            "_view_module_version": "1.5.0",
            "_view_name": "HTMLView",
            "description": "",
            "description_tooltip": null,
            "layout": "IPY_MODEL_3b7b8755c9de4905bd04b2eaf8b0adf5",
            "placeholder": "​",
            "style": "IPY_MODEL_eac2a60935224289aa35c24f9d382641",
            "value": "100%"
          }
        },
        "feea8956b90d491b83b7ca70b7921256": {
          "model_module": "@jupyter-widgets/controls",
          "model_module_version": "1.5.0",
          "model_name": "DescriptionStyleModel",
          "state": {
            "_model_module": "@jupyter-widgets/controls",
            "_model_module_version": "1.5.0",
            "_model_name": "DescriptionStyleModel",
            "_view_count": null,
            "_view_module": "@jupyter-widgets/base",
            "_view_module_version": "1.2.0",
            "_view_name": "StyleView",
            "description_width": ""
          }
        },
        "ff924ba7151c4126bd1865c1a0aaa5b1": {
          "model_module": "@jupyter-widgets/base",
          "model_module_version": "1.2.0",
          "model_name": "LayoutModel",
          "state": {
            "_model_module": "@jupyter-widgets/base",
            "_model_module_version": "1.2.0",
            "_model_name": "LayoutModel",
            "_view_count": null,
            "_view_module": "@jupyter-widgets/base",
            "_view_module_version": "1.2.0",
            "_view_name": "LayoutView",
            "align_content": null,
            "align_items": null,
            "align_self": null,
            "border": null,
            "bottom": null,
            "display": null,
            "flex": null,
            "flex_flow": null,
            "grid_area": null,
            "grid_auto_columns": null,
            "grid_auto_flow": null,
            "grid_auto_rows": null,
            "grid_column": null,
            "grid_gap": null,
            "grid_row": null,
            "grid_template_areas": null,
            "grid_template_columns": null,
            "grid_template_rows": null,
            "height": null,
            "justify_content": null,
            "justify_items": null,
            "left": null,
            "margin": null,
            "max_height": null,
            "max_width": null,
            "min_height": null,
            "min_width": null,
            "object_fit": null,
            "object_position": null,
            "order": null,
            "overflow": null,
            "overflow_x": null,
            "overflow_y": null,
            "padding": null,
            "right": null,
            "top": null,
            "visibility": null,
            "width": null
          }
        }
      }
    }
  },
  "nbformat": 4,
  "nbformat_minor": 0
}