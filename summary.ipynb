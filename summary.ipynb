{
  "cells": [
    {
      "cell_type": "code",
      "execution_count": null,
      "metadata": {
        "id": "KMWzkgIPjy-I"
      },
      "outputs": [],
      "source": [
        "import tensorflow as tf\n",
        "import pandas as pd\n",
        "import numpy as np\n",
        "import tensorflow_datasets as tfds\n",
        "import keras\n",
        "import sklearn\n",
        "import matplotlib.pyplot as plt\n",
        "import seaborn as sns\n",
        "import re"
      ]
    },
    {
      "cell_type": "code",
      "execution_count": null,
      "metadata": {
        "colab": {
          "base_uri": "https://localhost:8080/"
        },
        "id": "FNH0pF4YHVWB",
        "outputId": "082f87cf-c9c8-4a45-a7ac-2e8ad573030e"
      },
      "outputs": [
        {
          "output_type": "stream",
          "name": "stdout",
          "text": [
            "Mounted at /content/drive\n"
          ]
        }
      ],
      "source": [
        "from google.colab import drive\n",
        "drive.mount('/content/drive')"
      ]
    },
    {
      "cell_type": "code",
      "execution_count": null,
      "metadata": {
        "id": "5jP-kJVmGoQg",
        "colab": {
          "base_uri": "https://localhost:8080/",
          "height": 458
        },
        "outputId": "1f4bd104-7b95-4cb5-ed79-cdead60ab938"
      },
      "outputs": [
        {
          "output_type": "stream",
          "name": "stderr",
          "text": [
            "/usr/local/lib/python3.7/dist-packages/ipykernel_launcher.py:6: FutureWarning: In a future version of pandas all arguments of DataFrame.drop except for the argument 'labels' will be keyword-only\n",
            "  \n"
          ]
        },
        {
          "output_type": "execute_result",
          "data": {
            "text/plain": [
              "                                          data/review_body  data/star_rating\n",
              "0        Great game...a bit more complex than the Ameri...                 4\n",
              "1                                                  love it                 5\n",
              "2        In theory is a great toy. It just needs to be ...                 3\n",
              "3        Not bad for beginners but would def spend the ...                 3\n",
              "4        It's entertained two grandchildren in the tub ...                 5\n",
              "...                                                    ...               ...\n",
              "4864244  My 10 year-old son got this product for Christ...                 1\n",
              "4864245  I've got a lot of Robbie The Robot collectable...                 5\n",
              "4864246  This is the best gun out there.  A friend of m...                 5\n",
              "4864247                       all star wars fans love this                 5\n",
              "4864248  A great toy for a child to learn to hunt with....                 5\n",
              "\n",
              "[4864249 rows x 2 columns]"
            ],
            "text/html": [
              "\n",
              "  <div id=\"df-3a631b39-b4ea-4f73-a838-5183f8d0b283\">\n",
              "    <div class=\"colab-df-container\">\n",
              "      <div>\n",
              "<style scoped>\n",
              "    .dataframe tbody tr th:only-of-type {\n",
              "        vertical-align: middle;\n",
              "    }\n",
              "\n",
              "    .dataframe tbody tr th {\n",
              "        vertical-align: top;\n",
              "    }\n",
              "\n",
              "    .dataframe thead th {\n",
              "        text-align: right;\n",
              "    }\n",
              "</style>\n",
              "<table border=\"1\" class=\"dataframe\">\n",
              "  <thead>\n",
              "    <tr style=\"text-align: right;\">\n",
              "      <th></th>\n",
              "      <th>data/review_body</th>\n",
              "      <th>data/star_rating</th>\n",
              "    </tr>\n",
              "  </thead>\n",
              "  <tbody>\n",
              "    <tr>\n",
              "      <th>0</th>\n",
              "      <td>Great game...a bit more complex than the Ameri...</td>\n",
              "      <td>4</td>\n",
              "    </tr>\n",
              "    <tr>\n",
              "      <th>1</th>\n",
              "      <td>love it</td>\n",
              "      <td>5</td>\n",
              "    </tr>\n",
              "    <tr>\n",
              "      <th>2</th>\n",
              "      <td>In theory is a great toy. It just needs to be ...</td>\n",
              "      <td>3</td>\n",
              "    </tr>\n",
              "    <tr>\n",
              "      <th>3</th>\n",
              "      <td>Not bad for beginners but would def spend the ...</td>\n",
              "      <td>3</td>\n",
              "    </tr>\n",
              "    <tr>\n",
              "      <th>4</th>\n",
              "      <td>It's entertained two grandchildren in the tub ...</td>\n",
              "      <td>5</td>\n",
              "    </tr>\n",
              "    <tr>\n",
              "      <th>...</th>\n",
              "      <td>...</td>\n",
              "      <td>...</td>\n",
              "    </tr>\n",
              "    <tr>\n",
              "      <th>4864244</th>\n",
              "      <td>My 10 year-old son got this product for Christ...</td>\n",
              "      <td>1</td>\n",
              "    </tr>\n",
              "    <tr>\n",
              "      <th>4864245</th>\n",
              "      <td>I've got a lot of Robbie The Robot collectable...</td>\n",
              "      <td>5</td>\n",
              "    </tr>\n",
              "    <tr>\n",
              "      <th>4864246</th>\n",
              "      <td>This is the best gun out there.  A friend of m...</td>\n",
              "      <td>5</td>\n",
              "    </tr>\n",
              "    <tr>\n",
              "      <th>4864247</th>\n",
              "      <td>all star wars fans love this</td>\n",
              "      <td>5</td>\n",
              "    </tr>\n",
              "    <tr>\n",
              "      <th>4864248</th>\n",
              "      <td>A great toy for a child to learn to hunt with....</td>\n",
              "      <td>5</td>\n",
              "    </tr>\n",
              "  </tbody>\n",
              "</table>\n",
              "<p>4864249 rows × 2 columns</p>\n",
              "</div>\n",
              "      <button class=\"colab-df-convert\" onclick=\"convertToInteractive('df-3a631b39-b4ea-4f73-a838-5183f8d0b283')\"\n",
              "              title=\"Convert this dataframe to an interactive table.\"\n",
              "              style=\"display:none;\">\n",
              "        \n",
              "  <svg xmlns=\"http://www.w3.org/2000/svg\" height=\"24px\"viewBox=\"0 0 24 24\"\n",
              "       width=\"24px\">\n",
              "    <path d=\"M0 0h24v24H0V0z\" fill=\"none\"/>\n",
              "    <path d=\"M18.56 5.44l.94 2.06.94-2.06 2.06-.94-2.06-.94-.94-2.06-.94 2.06-2.06.94zm-11 1L8.5 8.5l.94-2.06 2.06-.94-2.06-.94L8.5 2.5l-.94 2.06-2.06.94zm10 10l.94 2.06.94-2.06 2.06-.94-2.06-.94-.94-2.06-.94 2.06-2.06.94z\"/><path d=\"M17.41 7.96l-1.37-1.37c-.4-.4-.92-.59-1.43-.59-.52 0-1.04.2-1.43.59L10.3 9.45l-7.72 7.72c-.78.78-.78 2.05 0 2.83L4 21.41c.39.39.9.59 1.41.59.51 0 1.02-.2 1.41-.59l7.78-7.78 2.81-2.81c.8-.78.8-2.07 0-2.86zM5.41 20L4 18.59l7.72-7.72 1.47 1.35L5.41 20z\"/>\n",
              "  </svg>\n",
              "      </button>\n",
              "      \n",
              "  <style>\n",
              "    .colab-df-container {\n",
              "      display:flex;\n",
              "      flex-wrap:wrap;\n",
              "      gap: 12px;\n",
              "    }\n",
              "\n",
              "    .colab-df-convert {\n",
              "      background-color: #E8F0FE;\n",
              "      border: none;\n",
              "      border-radius: 50%;\n",
              "      cursor: pointer;\n",
              "      display: none;\n",
              "      fill: #1967D2;\n",
              "      height: 32px;\n",
              "      padding: 0 0 0 0;\n",
              "      width: 32px;\n",
              "    }\n",
              "\n",
              "    .colab-df-convert:hover {\n",
              "      background-color: #E2EBFA;\n",
              "      box-shadow: 0px 1px 2px rgba(60, 64, 67, 0.3), 0px 1px 3px 1px rgba(60, 64, 67, 0.15);\n",
              "      fill: #174EA6;\n",
              "    }\n",
              "\n",
              "    [theme=dark] .colab-df-convert {\n",
              "      background-color: #3B4455;\n",
              "      fill: #D2E3FC;\n",
              "    }\n",
              "\n",
              "    [theme=dark] .colab-df-convert:hover {\n",
              "      background-color: #434B5C;\n",
              "      box-shadow: 0px 1px 3px 1px rgba(0, 0, 0, 0.15);\n",
              "      filter: drop-shadow(0px 1px 2px rgba(0, 0, 0, 0.3));\n",
              "      fill: #FFFFFF;\n",
              "    }\n",
              "  </style>\n",
              "\n",
              "      <script>\n",
              "        const buttonEl =\n",
              "          document.querySelector('#df-3a631b39-b4ea-4f73-a838-5183f8d0b283 button.colab-df-convert');\n",
              "        buttonEl.style.display =\n",
              "          google.colab.kernel.accessAllowed ? 'block' : 'none';\n",
              "\n",
              "        async function convertToInteractive(key) {\n",
              "          const element = document.querySelector('#df-3a631b39-b4ea-4f73-a838-5183f8d0b283');\n",
              "          const dataTable =\n",
              "            await google.colab.kernel.invokeFunction('convertToInteractive',\n",
              "                                                     [key], {});\n",
              "          if (!dataTable) return;\n",
              "\n",
              "          const docLinkHtml = 'Like what you see? Visit the ' +\n",
              "            '<a target=\"_blank\" href=https://colab.research.google.com/notebooks/data_table.ipynb>data table notebook</a>'\n",
              "            + ' to learn more about interactive tables.';\n",
              "          element.innerHTML = '';\n",
              "          dataTable['output_type'] = 'display_data';\n",
              "          await google.colab.output.renderOutput(dataTable, element);\n",
              "          const docLink = document.createElement('div');\n",
              "          docLink.innerHTML = docLinkHtml;\n",
              "          element.appendChild(docLink);\n",
              "        }\n",
              "      </script>\n",
              "    </div>\n",
              "  </div>\n",
              "  "
            ]
          },
          "metadata": {},
          "execution_count": 3
        }
      ],
      "source": [
        "#  amazon dataset converted to csv beforehand from --> https://www.tensorflow.org/datasets/catalog/amazon_us_reviews#amazon_us_reviewstoys_v1_00\n",
        "#  currently in google drive of this notebook\n",
        "filepathTOY = '/content/drive/MyDrive/TOYS.csv'\n",
        "df = pd.read_csv(filepathTOY)\n",
        "df['data/review_body']=df['data/review_body'].astype(str)\n",
        "df = df.drop('Unnamed: 0', 1)\n",
        "df"
      ]
    },
    {
      "cell_type": "code",
      "execution_count": null,
      "metadata": {
        "colab": {
          "base_uri": "https://localhost:8080/"
        },
        "id": "2MYFQlonOsHX",
        "outputId": "f17a98c8-2efd-4b26-c30e-628461494d66"
      },
      "outputs": [
        {
          "output_type": "execute_result",
          "data": {
            "text/plain": [
              "5    3076922\n",
              "4     769722\n",
              "1     399503\n",
              "3     387722\n",
              "2     230380\n",
              "Name: data/star_rating, dtype: int64"
            ]
          },
          "metadata": {},
          "execution_count": 4
        }
      ],
      "source": [
        "df['data/star_rating'].value_counts()"
      ]
    },
    {
      "cell_type": "code",
      "execution_count": null,
      "metadata": {
        "id": "_T-_GjGthJAZ"
      },
      "outputs": [],
      "source": [
        "reviews = df['data/review_body']\n",
        "labels =  df[\"data/star_rating\"].subtract(1)  #labels [1-5] --> [0-4]\n",
        "labels = labels.div(4)                        #labels [0-4] --> [0-1]\n",
        "del df                                        \n"
      ]
    },
    {
      "cell_type": "code",
      "execution_count": null,
      "metadata": {
        "colab": {
          "base_uri": "https://localhost:8080/"
        },
        "id": "Hbn9_dWMsIzH",
        "outputId": "f9c57888-36d9-43d4-e8c8-5d0b70fbd1af"
      },
      "outputs": [
        {
          "output_type": "execute_result",
          "data": {
            "text/plain": [
              "1.00    338375\n",
              "0.75     84970\n",
              "0.00     43904\n",
              "0.50     42291\n",
              "0.25     25527\n",
              "Name: data/star_rating, dtype: int64"
            ]
          },
          "metadata": {},
          "execution_count": 6
        }
      ],
      "source": [
        "from sklearn.model_selection import train_test_split\n",
        "# 4,864,249 data points, we sliced %89 of it because of RAM limitations. We contuniue with remaining 535,067 data points ≅≅ half a million\n",
        "reviews, temp_reviews, labels, temp_labels = train_test_split(reviews, labels, test_size=.89, random_state = 10)\n",
        "del temp_reviews        #discarded reviews\n",
        "del temp_labels         #discarded labels\n",
        "labels.value_counts()"
      ]
    },
    {
      "cell_type": "code",
      "execution_count": null,
      "metadata": {
        "id": "9UDsth4iZsfV",
        "colab": {
          "base_uri": "https://localhost:8080/"
        },
        "outputId": "77f88191-9432-49b4-d584-ee78e3b4522e"
      },
      "outputs": [
        {
          "output_type": "stream",
          "name": "stderr",
          "text": [
            "IOPub data rate exceeded.\n",
            "The notebook server will temporarily stop sending output\n",
            "to the client in order to avoid crashing it.\n",
            "To change this limit, set the config variable\n",
            "`--NotebookApp.iopub_data_rate_limit`.\n",
            "\n",
            "Current values:\n",
            "NotebookApp.iopub_data_rate_limit=1000000.0 (bytes/sec)\n",
            "NotebookApp.rate_limit_window=3.0 (secs)\n",
            "\n"
          ]
        }
      ],
      "source": [
        "# most 10,000 frequent words in reviews are converted into tokens and the remaining rare ones are discarded\n",
        "t = tf.keras.preprocessing.text.Tokenizer(num_words=10000)\n",
        "t.fit_on_texts(reviews)\n",
        "encoded_reviews = t.texts_to_sequences(reviews)\n",
        "\n",
        "print(encoded_reviews)\n",
        "del reviews           "
      ]
    },
    {
      "cell_type": "code",
      "source": [
        "#reviews shorter than 300 words are post-padded with 0s and longer ones are sliced to first 300 words\n",
        "encoded_reviews = tf.keras.preprocessing.sequence.pad_sequences(encoded_reviews,padding='post',maxlen=300)\n",
        "\n",
        "print(np.shape(encoded_reviews))\n",
        "print(encoded_reviews)"
      ],
      "metadata": {
        "id": "ffb-tmR0GB4x",
        "colab": {
          "base_uri": "https://localhost:8080/"
        },
        "outputId": "de3c1d05-c3b7-447e-954a-f5cf23d3c3a2"
      },
      "execution_count": null,
      "outputs": [
        {
          "output_type": "stream",
          "name": "stdout",
          "text": [
            "(535067, 300)\n",
            "[[  11  169    8 ...    0    0    0]\n",
            " [  30  167    9 ...    0    0    0]\n",
            " [   6   66    9 ...    0    0    0]\n",
            " ...\n",
            " [  11   68  664 ...    0    0    0]\n",
            " [ 384   19    0 ...    0    0    0]\n",
            " [ 107 1962  114 ...    0    0    0]]\n"
          ]
        }
      ]
    },
    {
      "cell_type": "code",
      "execution_count": null,
      "metadata": {
        "id": "kH0_uIsjseFt",
        "colab": {
          "base_uri": "https://localhost:8080/"
        },
        "outputId": "f3694aed-bd76-4c3c-e895-f4b06f1e3d2a"
      },
      "outputs": [
        {
          "output_type": "stream",
          "name": "stderr",
          "text": [
            "/usr/local/lib/python3.7/dist-packages/ipykernel_launcher.py:27: DeprecationWarning: KerasRegressor is deprecated, use Sci-Keras (https://github.com/adriangb/scikeras) instead. See https://www.adriangb.com/scikeras/stable/migration.html for help migrating.\n"
          ]
        },
        {
          "output_type": "stream",
          "name": "stdout",
          "text": [
            "Epoch 1/3\n",
            "6689/6689 [==============================] - 351s 45ms/step - loss: 0.0381 - mae: 0.1290 - mse: 0.0381 - root_mean_squared_error: 0.1952\n",
            "Epoch 2/3\n",
            "6689/6689 [==============================] - 299s 45ms/step - loss: 0.0276 - mae: 0.1057 - mse: 0.0276 - root_mean_squared_error: 0.1660\n",
            "Epoch 3/3\n",
            "6689/6689 [==============================] - 299s 45ms/step - loss: 0.0241 - mae: 0.0977 - mse: 0.0241 - root_mean_squared_error: 0.1553\n",
            "1673/1673 [==============================] - 37s 21ms/step\n",
            "Epoch 1/3\n",
            "6689/6689 [==============================] - 306s 45ms/step - loss: 0.0357 - mae: 0.1235 - mse: 0.0357 - root_mean_squared_error: 0.1890\n",
            "Epoch 2/3\n",
            "6689/6689 [==============================] - 304s 45ms/step - loss: 0.0265 - mae: 0.1033 - mse: 0.0265 - root_mean_squared_error: 0.1628\n",
            "Epoch 3/3\n",
            "6689/6689 [==============================] - 303s 45ms/step - loss: 0.0234 - mae: 0.0961 - mse: 0.0234 - root_mean_squared_error: 0.1528\n",
            "1673/1673 [==============================] - 39s 22ms/step\n",
            "Epoch 1/3\n",
            "6689/6689 [==============================] - 307s 45ms/step - loss: 0.0365 - mae: 0.1253 - mse: 0.0365 - root_mean_squared_error: 0.1911\n",
            "Epoch 2/3\n",
            "6689/6689 [==============================] - 299s 45ms/step - loss: 0.0270 - mae: 0.1046 - mse: 0.0270 - root_mean_squared_error: 0.1643\n",
            "Epoch 3/3\n",
            "6689/6689 [==============================] - 291s 44ms/step - loss: 0.0240 - mae: 0.0978 - mse: 0.0240 - root_mean_squared_error: 0.1550\n",
            "1673/1673 [==============================] - 35s 20ms/step\n",
            "Epoch 1/3\n",
            "6689/6689 [==============================] - 297s 44ms/step - loss: 0.0374 - mae: 0.1270 - mse: 0.0374 - root_mean_squared_error: 0.1933\n",
            "Epoch 2/3\n",
            "6689/6689 [==============================] - 290s 43ms/step - loss: 0.0274 - mae: 0.1056 - mse: 0.0274 - root_mean_squared_error: 0.1656\n",
            "Epoch 3/3\n",
            "6689/6689 [==============================] - 291s 43ms/step - loss: 0.0241 - mae: 0.0979 - mse: 0.0241 - root_mean_squared_error: 0.1551\n",
            "1673/1673 [==============================] - 35s 20ms/step\n",
            "Epoch 1/3\n",
            "6689/6689 [==============================] - 299s 44ms/step - loss: 0.0378 - mae: 0.1283 - mse: 0.0378 - root_mean_squared_error: 0.1945\n",
            "Epoch 2/3\n",
            "6689/6689 [==============================] - 291s 43ms/step - loss: 0.0273 - mae: 0.1054 - mse: 0.0273 - root_mean_squared_error: 0.1653\n",
            "Epoch 3/3\n",
            "6689/6689 [==============================] - 292s 44ms/step - loss: 0.0240 - mae: 0.0978 - mse: 0.0240 - root_mean_squared_error: 0.1549\n",
            "1673/1673 [==============================] - 36s 21ms/step\n"
          ]
        }
      ],
      "source": [
        "#CROSS-VALIDATION\n",
        "drive_path = '/content/drive/MyDrive/'\n",
        "\n",
        "# 5 folds\n",
        "skf = sklearn.model_selection.KFold(n_splits=5)\n",
        "# watched metrics\n",
        "scoring = ['neg_mean_absolute_error', 'neg_mean_squared_error', 'neg_root_mean_squared_error']\n",
        "\n",
        "# model\n",
        "def create_model():\n",
        "  model = tf.keras.Sequential([\n",
        "      tf.keras.layers.Embedding(input_dim=10000, output_dim=128, input_length=300),\n",
        "      tf.keras.layers.Bidirectional(keras.layers.LSTM(64,return_sequences=True)),\n",
        "      tf.keras.layers.Bidirectional(keras.layers.LSTM(32)),\n",
        "      tf.keras.layers.Dense(24, activation='relu'),\n",
        "      tf.keras.layers.Dropout(0.2),\n",
        "      tf.keras.layers.Dense(1, activation='sigmoid')\n",
        "  ])\n",
        "\n",
        "  model.compile(loss='mse',\n",
        "                optimizer='adam',\n",
        "                metrics=['mae','mse',tf.keras.metrics.RootMeanSquaredError()])\n",
        "  \n",
        "  return model\n",
        "\n",
        "#wrapping the sklearn estimator as tensorflow model\n",
        "model = tf.keras.wrappers.scikit_learn.KerasRegressor(build_fn=create_model, epochs=3, batch_size=64, verbose=1)\n",
        "\n",
        "#cross validation\n",
        "scores = sklearn.model_selection.cross_validate(model, encoded_reviews, labels, cv=skf, scoring=scoring)"
      ]
    },
    {
      "cell_type": "code",
      "execution_count": null,
      "metadata": {
        "id": "gX0sOjuLN0tr",
        "colab": {
          "base_uri": "https://localhost:8080/"
        },
        "outputId": "5d3e6ab9-8cc1-4e91-d8bf-f4d8e4869454"
      },
      "outputs": [
        {
          "output_type": "stream",
          "name": "stdout",
          "text": [
            "[-0.10080609 -0.098251   -0.09891606 -0.09853102 -0.10052706]\n",
            "[-0.16456634 -0.16179759 -0.16228921 -0.16281483 -0.16222908]\n",
            "[-0.02708208 -0.02617846 -0.02633779 -0.02650867 -0.02631827]\n"
          ]
        }
      ],
      "source": [
        "sorted(scores.keys())\n",
        "print(scores['test_neg_mean_absolute_error'])\n",
        "print(scores['test_neg_root_mean_squared_error'])\n",
        "print(scores['test_neg_mean_squared_error'])"
      ]
    }
  ],
  "metadata": {
    "accelerator": "GPU",
    "colab": {
      "collapsed_sections": [],
      "machine_shape": "hm",
      "name": "main_toys.ipynb",
      "provenance": []
    },
    "kernelspec": {
      "display_name": "Python 3",
      "name": "python3"
    },
    "language_info": {
      "name": "python"
    }
  },
  "nbformat": 4,
  "nbformat_minor": 0
}
